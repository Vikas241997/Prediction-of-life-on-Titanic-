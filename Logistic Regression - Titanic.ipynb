{
 "cells": [
  {
   "cell_type": "code",
   "execution_count": 2,
   "metadata": {},
   "outputs": [],
   "source": [
    "import pandas as pd\n",
    "import numpy as np\n",
    "import seaborn as sns\n",
    "import matplotlib.pyplot as plt\n",
    "%matplotlib inline"
   ]
  },
  {
   "cell_type": "code",
   "execution_count": 3,
   "metadata": {},
   "outputs": [
    {
     "data": {
      "text/html": [
       "<div>\n",
       "<style scoped>\n",
       "    .dataframe tbody tr th:only-of-type {\n",
       "        vertical-align: middle;\n",
       "    }\n",
       "\n",
       "    .dataframe tbody tr th {\n",
       "        vertical-align: top;\n",
       "    }\n",
       "\n",
       "    .dataframe thead th {\n",
       "        text-align: right;\n",
       "    }\n",
       "</style>\n",
       "<table border=\"1\" class=\"dataframe\">\n",
       "  <thead>\n",
       "    <tr style=\"text-align: right;\">\n",
       "      <th></th>\n",
       "      <th>pclass</th>\n",
       "      <th>survived</th>\n",
       "      <th>name</th>\n",
       "      <th>sex</th>\n",
       "      <th>age</th>\n",
       "      <th>sibsp</th>\n",
       "      <th>parch</th>\n",
       "      <th>ticket</th>\n",
       "      <th>fare</th>\n",
       "      <th>cabin</th>\n",
       "      <th>embarked</th>\n",
       "      <th>boat</th>\n",
       "      <th>body</th>\n",
       "      <th>home.dest</th>\n",
       "    </tr>\n",
       "  </thead>\n",
       "  <tbody>\n",
       "    <tr>\n",
       "      <th>0</th>\n",
       "      <td>1.0</td>\n",
       "      <td>1.0</td>\n",
       "      <td>Allen, Miss. Elisabeth Walton</td>\n",
       "      <td>female</td>\n",
       "      <td>29.0000</td>\n",
       "      <td>0.0</td>\n",
       "      <td>0.0</td>\n",
       "      <td>24160</td>\n",
       "      <td>211.3375</td>\n",
       "      <td>B5</td>\n",
       "      <td>S</td>\n",
       "      <td>2</td>\n",
       "      <td>NaN</td>\n",
       "      <td>St Louis, MO</td>\n",
       "    </tr>\n",
       "    <tr>\n",
       "      <th>1</th>\n",
       "      <td>1.0</td>\n",
       "      <td>1.0</td>\n",
       "      <td>Allison, Master. Hudson Trevor</td>\n",
       "      <td>male</td>\n",
       "      <td>0.9167</td>\n",
       "      <td>1.0</td>\n",
       "      <td>2.0</td>\n",
       "      <td>113781</td>\n",
       "      <td>151.5500</td>\n",
       "      <td>C22 C26</td>\n",
       "      <td>S</td>\n",
       "      <td>11</td>\n",
       "      <td>NaN</td>\n",
       "      <td>Montreal, PQ / Chesterville, ON</td>\n",
       "    </tr>\n",
       "    <tr>\n",
       "      <th>2</th>\n",
       "      <td>1.0</td>\n",
       "      <td>0.0</td>\n",
       "      <td>Allison, Miss. Helen Loraine</td>\n",
       "      <td>female</td>\n",
       "      <td>2.0000</td>\n",
       "      <td>1.0</td>\n",
       "      <td>2.0</td>\n",
       "      <td>113781</td>\n",
       "      <td>151.5500</td>\n",
       "      <td>C22 C26</td>\n",
       "      <td>S</td>\n",
       "      <td>NaN</td>\n",
       "      <td>NaN</td>\n",
       "      <td>Montreal, PQ / Chesterville, ON</td>\n",
       "    </tr>\n",
       "    <tr>\n",
       "      <th>3</th>\n",
       "      <td>1.0</td>\n",
       "      <td>0.0</td>\n",
       "      <td>Allison, Mr. Hudson Joshua Creighton</td>\n",
       "      <td>male</td>\n",
       "      <td>30.0000</td>\n",
       "      <td>1.0</td>\n",
       "      <td>2.0</td>\n",
       "      <td>113781</td>\n",
       "      <td>151.5500</td>\n",
       "      <td>C22 C26</td>\n",
       "      <td>S</td>\n",
       "      <td>NaN</td>\n",
       "      <td>135.0</td>\n",
       "      <td>Montreal, PQ / Chesterville, ON</td>\n",
       "    </tr>\n",
       "    <tr>\n",
       "      <th>4</th>\n",
       "      <td>1.0</td>\n",
       "      <td>0.0</td>\n",
       "      <td>Allison, Mrs. Hudson J C (Bessie Waldo Daniels)</td>\n",
       "      <td>female</td>\n",
       "      <td>25.0000</td>\n",
       "      <td>1.0</td>\n",
       "      <td>2.0</td>\n",
       "      <td>113781</td>\n",
       "      <td>151.5500</td>\n",
       "      <td>C22 C26</td>\n",
       "      <td>S</td>\n",
       "      <td>NaN</td>\n",
       "      <td>NaN</td>\n",
       "      <td>Montreal, PQ / Chesterville, ON</td>\n",
       "    </tr>\n",
       "  </tbody>\n",
       "</table>\n",
       "</div>"
      ],
      "text/plain": [
       "   pclass  survived                                             name     sex  \\\n",
       "0     1.0       1.0                    Allen, Miss. Elisabeth Walton  female   \n",
       "1     1.0       1.0                   Allison, Master. Hudson Trevor    male   \n",
       "2     1.0       0.0                     Allison, Miss. Helen Loraine  female   \n",
       "3     1.0       0.0             Allison, Mr. Hudson Joshua Creighton    male   \n",
       "4     1.0       0.0  Allison, Mrs. Hudson J C (Bessie Waldo Daniels)  female   \n",
       "\n",
       "       age  sibsp  parch  ticket      fare    cabin embarked boat   body  \\\n",
       "0  29.0000    0.0    0.0   24160  211.3375       B5        S    2    NaN   \n",
       "1   0.9167    1.0    2.0  113781  151.5500  C22 C26        S   11    NaN   \n",
       "2   2.0000    1.0    2.0  113781  151.5500  C22 C26        S  NaN    NaN   \n",
       "3  30.0000    1.0    2.0  113781  151.5500  C22 C26        S  NaN  135.0   \n",
       "4  25.0000    1.0    2.0  113781  151.5500  C22 C26        S  NaN    NaN   \n",
       "\n",
       "                         home.dest  \n",
       "0                     St Louis, MO  \n",
       "1  Montreal, PQ / Chesterville, ON  \n",
       "2  Montreal, PQ / Chesterville, ON  \n",
       "3  Montreal, PQ / Chesterville, ON  \n",
       "4  Montreal, PQ / Chesterville, ON  "
      ]
     },
     "execution_count": 3,
     "metadata": {},
     "output_type": "execute_result"
    }
   ],
   "source": [
    "df = pd.read_csv(\"titanic.csv\")\n",
    "df.head()"
   ]
  },
  {
   "cell_type": "code",
   "execution_count": 4,
   "metadata": {},
   "outputs": [
    {
     "data": {
      "text/html": [
       "<div>\n",
       "<style scoped>\n",
       "    .dataframe tbody tr th:only-of-type {\n",
       "        vertical-align: middle;\n",
       "    }\n",
       "\n",
       "    .dataframe tbody tr th {\n",
       "        vertical-align: top;\n",
       "    }\n",
       "\n",
       "    .dataframe thead th {\n",
       "        text-align: right;\n",
       "    }\n",
       "</style>\n",
       "<table border=\"1\" class=\"dataframe\">\n",
       "  <thead>\n",
       "    <tr style=\"text-align: right;\">\n",
       "      <th></th>\n",
       "      <th>pclass</th>\n",
       "      <th>survived</th>\n",
       "      <th>age</th>\n",
       "      <th>sibsp</th>\n",
       "      <th>parch</th>\n",
       "      <th>fare</th>\n",
       "      <th>body</th>\n",
       "    </tr>\n",
       "  </thead>\n",
       "  <tbody>\n",
       "    <tr>\n",
       "      <th>count</th>\n",
       "      <td>1309.000000</td>\n",
       "      <td>1309.000000</td>\n",
       "      <td>1046.000000</td>\n",
       "      <td>1309.000000</td>\n",
       "      <td>1309.000000</td>\n",
       "      <td>1308.000000</td>\n",
       "      <td>121.000000</td>\n",
       "    </tr>\n",
       "    <tr>\n",
       "      <th>mean</th>\n",
       "      <td>2.294882</td>\n",
       "      <td>0.381971</td>\n",
       "      <td>29.881135</td>\n",
       "      <td>0.498854</td>\n",
       "      <td>0.385027</td>\n",
       "      <td>33.295479</td>\n",
       "      <td>160.809917</td>\n",
       "    </tr>\n",
       "    <tr>\n",
       "      <th>std</th>\n",
       "      <td>0.837836</td>\n",
       "      <td>0.486055</td>\n",
       "      <td>14.413500</td>\n",
       "      <td>1.041658</td>\n",
       "      <td>0.865560</td>\n",
       "      <td>51.758668</td>\n",
       "      <td>97.696922</td>\n",
       "    </tr>\n",
       "    <tr>\n",
       "      <th>min</th>\n",
       "      <td>1.000000</td>\n",
       "      <td>0.000000</td>\n",
       "      <td>0.166700</td>\n",
       "      <td>0.000000</td>\n",
       "      <td>0.000000</td>\n",
       "      <td>0.000000</td>\n",
       "      <td>1.000000</td>\n",
       "    </tr>\n",
       "    <tr>\n",
       "      <th>25%</th>\n",
       "      <td>2.000000</td>\n",
       "      <td>0.000000</td>\n",
       "      <td>21.000000</td>\n",
       "      <td>0.000000</td>\n",
       "      <td>0.000000</td>\n",
       "      <td>7.895800</td>\n",
       "      <td>72.000000</td>\n",
       "    </tr>\n",
       "    <tr>\n",
       "      <th>50%</th>\n",
       "      <td>3.000000</td>\n",
       "      <td>0.000000</td>\n",
       "      <td>28.000000</td>\n",
       "      <td>0.000000</td>\n",
       "      <td>0.000000</td>\n",
       "      <td>14.454200</td>\n",
       "      <td>155.000000</td>\n",
       "    </tr>\n",
       "    <tr>\n",
       "      <th>75%</th>\n",
       "      <td>3.000000</td>\n",
       "      <td>1.000000</td>\n",
       "      <td>39.000000</td>\n",
       "      <td>1.000000</td>\n",
       "      <td>0.000000</td>\n",
       "      <td>31.275000</td>\n",
       "      <td>256.000000</td>\n",
       "    </tr>\n",
       "    <tr>\n",
       "      <th>max</th>\n",
       "      <td>3.000000</td>\n",
       "      <td>1.000000</td>\n",
       "      <td>80.000000</td>\n",
       "      <td>8.000000</td>\n",
       "      <td>9.000000</td>\n",
       "      <td>512.329200</td>\n",
       "      <td>328.000000</td>\n",
       "    </tr>\n",
       "  </tbody>\n",
       "</table>\n",
       "</div>"
      ],
      "text/plain": [
       "            pclass     survived          age        sibsp        parch  \\\n",
       "count  1309.000000  1309.000000  1046.000000  1309.000000  1309.000000   \n",
       "mean      2.294882     0.381971    29.881135     0.498854     0.385027   \n",
       "std       0.837836     0.486055    14.413500     1.041658     0.865560   \n",
       "min       1.000000     0.000000     0.166700     0.000000     0.000000   \n",
       "25%       2.000000     0.000000    21.000000     0.000000     0.000000   \n",
       "50%       3.000000     0.000000    28.000000     0.000000     0.000000   \n",
       "75%       3.000000     1.000000    39.000000     1.000000     0.000000   \n",
       "max       3.000000     1.000000    80.000000     8.000000     9.000000   \n",
       "\n",
       "              fare        body  \n",
       "count  1308.000000  121.000000  \n",
       "mean     33.295479  160.809917  \n",
       "std      51.758668   97.696922  \n",
       "min       0.000000    1.000000  \n",
       "25%       7.895800   72.000000  \n",
       "50%      14.454200  155.000000  \n",
       "75%      31.275000  256.000000  \n",
       "max     512.329200  328.000000  "
      ]
     },
     "execution_count": 4,
     "metadata": {},
     "output_type": "execute_result"
    }
   ],
   "source": [
    "df.describe()"
   ]
  },
  {
   "cell_type": "code",
   "execution_count": 5,
   "metadata": {},
   "outputs": [
    {
     "name": "stderr",
     "output_type": "stream",
     "text": [
      "C:\\Users\\ADMIN\\Anaconda3\\lib\\site-packages\\ipykernel_launcher.py:4: FutureWarning: Sorting because non-concatenation axis is not aligned. A future version\n",
      "of pandas will change to not sort by default.\n",
      "\n",
      "To accept the future behavior, pass 'sort=False'.\n",
      "\n",
      "To retain the current behavior and silence the warning, pass 'sort=True'.\n",
      "\n",
      "  after removing the cwd from sys.path.\n"
     ]
    },
    {
     "data": {
      "text/html": [
       "<div>\n",
       "<style scoped>\n",
       "    .dataframe tbody tr th:only-of-type {\n",
       "        vertical-align: middle;\n",
       "    }\n",
       "\n",
       "    .dataframe tbody tr th {\n",
       "        vertical-align: top;\n",
       "    }\n",
       "\n",
       "    .dataframe thead th {\n",
       "        text-align: right;\n",
       "    }\n",
       "</style>\n",
       "<table border=\"1\" class=\"dataframe\">\n",
       "  <thead>\n",
       "    <tr style=\"text-align: right;\">\n",
       "      <th></th>\n",
       "      <th>Total</th>\n",
       "      <th>%</th>\n",
       "    </tr>\n",
       "  </thead>\n",
       "  <tbody>\n",
       "    <tr>\n",
       "      <th>age</th>\n",
       "      <td>264</td>\n",
       "      <td>20.2</td>\n",
       "    </tr>\n",
       "    <tr>\n",
       "      <th>boat</th>\n",
       "      <td>824</td>\n",
       "      <td>62.9</td>\n",
       "    </tr>\n",
       "    <tr>\n",
       "      <th>body</th>\n",
       "      <td>1189</td>\n",
       "      <td>90.8</td>\n",
       "    </tr>\n",
       "    <tr>\n",
       "      <th>cabin</th>\n",
       "      <td>1015</td>\n",
       "      <td>77.5</td>\n",
       "    </tr>\n",
       "    <tr>\n",
       "      <th>embarked</th>\n",
       "      <td>3</td>\n",
       "      <td>0.2</td>\n",
       "    </tr>\n",
       "    <tr>\n",
       "      <th>fare</th>\n",
       "      <td>2</td>\n",
       "      <td>0.2</td>\n",
       "    </tr>\n",
       "    <tr>\n",
       "      <th>home.dest</th>\n",
       "      <td>565</td>\n",
       "      <td>43.1</td>\n",
       "    </tr>\n",
       "    <tr>\n",
       "      <th>name</th>\n",
       "      <td>1</td>\n",
       "      <td>0.1</td>\n",
       "    </tr>\n",
       "  </tbody>\n",
       "</table>\n",
       "</div>"
      ],
      "text/plain": [
       "           Total     %\n",
       "age          264  20.2\n",
       "boat         824  62.9\n",
       "body        1189  90.8\n",
       "cabin       1015  77.5\n",
       "embarked       3   0.2\n",
       "fare           2   0.2\n",
       "home.dest    565  43.1\n",
       "name           1   0.1"
      ]
     },
     "execution_count": 5,
     "metadata": {},
     "output_type": "execute_result"
    }
   ],
   "source": [
    "total = df.isnull().sum().sort_values(ascending=False)\n",
    "percent_1 = df.isnull().sum()/df.isnull().count()*100\n",
    "percent_2 = (round(percent_1, 1)).sort_values(ascending=True)\n",
    "missing_data = pd.concat([total, percent_2], axis=1, keys=['Total', '%'])\n",
    "missing_data.head(8)\n"
   ]
  },
  {
   "cell_type": "code",
   "execution_count": 8,
   "metadata": {},
   "outputs": [
    {
     "data": {
      "text/html": [
       "<div>\n",
       "<style scoped>\n",
       "    .dataframe tbody tr th:only-of-type {\n",
       "        vertical-align: middle;\n",
       "    }\n",
       "\n",
       "    .dataframe tbody tr th {\n",
       "        vertical-align: top;\n",
       "    }\n",
       "\n",
       "    .dataframe thead th {\n",
       "        text-align: right;\n",
       "    }\n",
       "</style>\n",
       "<table border=\"1\" class=\"dataframe\">\n",
       "  <thead>\n",
       "    <tr style=\"text-align: right;\">\n",
       "      <th></th>\n",
       "      <th>pclass</th>\n",
       "      <th>survived</th>\n",
       "    </tr>\n",
       "  </thead>\n",
       "  <tbody>\n",
       "    <tr>\n",
       "      <th>0</th>\n",
       "      <td>1.0</td>\n",
       "      <td>0.619195</td>\n",
       "    </tr>\n",
       "    <tr>\n",
       "      <th>1</th>\n",
       "      <td>2.0</td>\n",
       "      <td>0.429603</td>\n",
       "    </tr>\n",
       "    <tr>\n",
       "      <th>2</th>\n",
       "      <td>3.0</td>\n",
       "      <td>0.255289</td>\n",
       "    </tr>\n",
       "  </tbody>\n",
       "</table>\n",
       "</div>"
      ],
      "text/plain": [
       "   pclass  survived\n",
       "0     1.0  0.619195\n",
       "1     2.0  0.429603\n",
       "2     3.0  0.255289"
      ]
     },
     "execution_count": 8,
     "metadata": {},
     "output_type": "execute_result"
    }
   ],
   "source": [
    "df[['pclass', 'survived']].groupby(['pclass'], as_index=False).mean().sort_values(by='survived', ascending=False)"
   ]
  },
  {
   "cell_type": "code",
   "execution_count": 6,
   "metadata": {},
   "outputs": [
    {
     "data": {
      "text/html": [
       "<div>\n",
       "<style scoped>\n",
       "    .dataframe tbody tr th:only-of-type {\n",
       "        vertical-align: middle;\n",
       "    }\n",
       "\n",
       "    .dataframe tbody tr th {\n",
       "        vertical-align: top;\n",
       "    }\n",
       "\n",
       "    .dataframe thead th {\n",
       "        text-align: right;\n",
       "    }\n",
       "</style>\n",
       "<table border=\"1\" class=\"dataframe\">\n",
       "  <thead>\n",
       "    <tr style=\"text-align: right;\">\n",
       "      <th></th>\n",
       "      <th>sex</th>\n",
       "      <th>survived</th>\n",
       "    </tr>\n",
       "  </thead>\n",
       "  <tbody>\n",
       "    <tr>\n",
       "      <th>0</th>\n",
       "      <td>female</td>\n",
       "      <td>0.727468</td>\n",
       "    </tr>\n",
       "    <tr>\n",
       "      <th>1</th>\n",
       "      <td>male</td>\n",
       "      <td>0.190985</td>\n",
       "    </tr>\n",
       "  </tbody>\n",
       "</table>\n",
       "</div>"
      ],
      "text/plain": [
       "      sex  survived\n",
       "0  female  0.727468\n",
       "1    male  0.190985"
      ]
     },
     "execution_count": 6,
     "metadata": {},
     "output_type": "execute_result"
    }
   ],
   "source": [
    "df[[\"sex\", \"survived\"]].groupby(['sex'], as_index=False).mean().sort_values(by='survived', ascending=False)"
   ]
  },
  {
   "cell_type": "code",
   "execution_count": 7,
   "metadata": {},
   "outputs": [
    {
     "data": {
      "text/html": [
       "<div>\n",
       "<style scoped>\n",
       "    .dataframe tbody tr th:only-of-type {\n",
       "        vertical-align: middle;\n",
       "    }\n",
       "\n",
       "    .dataframe tbody tr th {\n",
       "        vertical-align: top;\n",
       "    }\n",
       "\n",
       "    .dataframe thead th {\n",
       "        text-align: right;\n",
       "    }\n",
       "</style>\n",
       "<table border=\"1\" class=\"dataframe\">\n",
       "  <thead>\n",
       "    <tr style=\"text-align: right;\">\n",
       "      <th></th>\n",
       "      <th>parch</th>\n",
       "      <th>survived</th>\n",
       "    </tr>\n",
       "  </thead>\n",
       "  <tbody>\n",
       "    <tr>\n",
       "      <th>3</th>\n",
       "      <td>3.0</td>\n",
       "      <td>0.625000</td>\n",
       "    </tr>\n",
       "    <tr>\n",
       "      <th>1</th>\n",
       "      <td>1.0</td>\n",
       "      <td>0.588235</td>\n",
       "    </tr>\n",
       "    <tr>\n",
       "      <th>2</th>\n",
       "      <td>2.0</td>\n",
       "      <td>0.504425</td>\n",
       "    </tr>\n",
       "    <tr>\n",
       "      <th>0</th>\n",
       "      <td>0.0</td>\n",
       "      <td>0.335329</td>\n",
       "    </tr>\n",
       "    <tr>\n",
       "      <th>4</th>\n",
       "      <td>4.0</td>\n",
       "      <td>0.166667</td>\n",
       "    </tr>\n",
       "    <tr>\n",
       "      <th>5</th>\n",
       "      <td>5.0</td>\n",
       "      <td>0.166667</td>\n",
       "    </tr>\n",
       "    <tr>\n",
       "      <th>6</th>\n",
       "      <td>6.0</td>\n",
       "      <td>0.000000</td>\n",
       "    </tr>\n",
       "    <tr>\n",
       "      <th>7</th>\n",
       "      <td>9.0</td>\n",
       "      <td>0.000000</td>\n",
       "    </tr>\n",
       "  </tbody>\n",
       "</table>\n",
       "</div>"
      ],
      "text/plain": [
       "   parch  survived\n",
       "3    3.0  0.625000\n",
       "1    1.0  0.588235\n",
       "2    2.0  0.504425\n",
       "0    0.0  0.335329\n",
       "4    4.0  0.166667\n",
       "5    5.0  0.166667\n",
       "6    6.0  0.000000\n",
       "7    9.0  0.000000"
      ]
     },
     "execution_count": 7,
     "metadata": {},
     "output_type": "execute_result"
    }
   ],
   "source": [
    "df[[\"parch\", \"survived\"]].groupby(['parch'], as_index=False).mean().sort_values(by='survived', ascending=False)"
   ]
  },
  {
   "cell_type": "markdown",
   "metadata": {},
   "source": [
    "## EDA:"
   ]
  },
  {
   "cell_type": "code",
   "execution_count": 68,
   "metadata": {},
   "outputs": [
    {
     "data": {
      "text/plain": [
       "<matplotlib.axes._subplots.AxesSubplot at 0x243ec8d3860>"
      ]
     },
     "execution_count": 68,
     "metadata": {},
     "output_type": "execute_result"
    },
    {
     "data": {
      "image/png": "[encoded data removed]",
      "text/plain": [
       "<Figure size 576x360 with 1 Axes>"
      ]
     },
     "metadata": {
      "needs_background": "light"
     },
     "output_type": "display_data"
    }
   ],
   "source": [
    "#We can see the columns that have missing values and will deal with it in the next section\n",
    "plt.figure(figsize=(8,5))\n",
    "sns.heatmap(df.isnull(), yticklabels=False, cbar=False, cmap='viridis')"
   ]
  },
  {
   "cell_type": "code",
   "execution_count": 69,
   "metadata": {},
   "outputs": [],
   "source": [
    "##AGE "
   ]
  },
  {
   "cell_type": "code",
   "execution_count": 70,
   "metadata": {},
   "outputs": [
    {
     "data": {
      "image/png": "[encoded data removed]",
      "text/plain": [
       "<Figure size 720x288 with 2 Axes>"
      ]
     },
     "metadata": {
      "needs_background": "light"
     },
     "output_type": "display_data"
    }
   ],
   "source": [
    "survived = 'survived'\n",
    "not_survived = 'not survived'\n",
    "fig, axes = plt.subplots(nrows=1, ncols=2,figsize=(10, 4))\n",
    "women = df[df['sex']=='female']\n",
    "men = df[df['sex']=='male']\n",
    "ax = sns.distplot(women[women['survived']==1].age.dropna(), bins=18, label = survived, ax = axes[0], kde =False)\n",
    "ax = sns.distplot(women[women['survived']==0].age.dropna(), bins=40, label = not_survived, ax = axes[0], kde =False)\n",
    "ax.legend()\n",
    "ax.set_title('Female')\n",
    "ax = sns.distplot(men[men['survived']==1].age.dropna(), bins=18, label = survived, ax = axes[1], kde = False)\n",
    "ax = sns.distplot(men[men['survived']==0].age.dropna(), bins=40, label = not_survived, ax = axes[1], kde = False)\n",
    "ax.legend()\n",
    "_ = ax.set_title('Male')"
   ]
  },
  {
   "cell_type": "code",
   "execution_count": 71,
   "metadata": {},
   "outputs": [
    {
     "data": {
      "text/plain": [
       "<matplotlib.axes._subplots.AxesSubplot at 0x243ee5bddd8>"
      ]
     },
     "execution_count": 71,
     "metadata": {},
     "output_type": "execute_result"
    },
    {
     "data": {
      "image/png": "[encoded data removed]",
      "text/plain": [
       "<Figure size 432x288 with 1 Axes>"
      ]
     },
     "metadata": {
      "needs_background": "light"
     },
     "output_type": "display_data"
    }
   ],
   "source": [
    "#It shows that from the people who dint survive maximum were males and almost twice females survived!\n",
    "sns.countplot(x='survived',data=df, hue='sex', palette='RdBu_r')"
   ]
  },
  {
   "cell_type": "code",
   "execution_count": 72,
   "metadata": {},
   "outputs": [
    {
     "data": {
      "text/plain": [
       "<matplotlib.axes._subplots.AxesSubplot at 0x243efa09c50>"
      ]
     },
     "execution_count": 72,
     "metadata": {},
     "output_type": "execute_result"
    },
    {
     "data": {
      "image/png": "[encoded data removed]",
      "text/plain": [
       "<Figure size 432x288 with 1 Axes>"
      ]
     },
     "metadata": {
      "needs_background": "light"
     },
     "output_type": "display_data"
    }
   ],
   "source": [
    "#The third class passangers were amazingly most among Non-Survivors \n",
    "sns.countplot(x='survived',data=df, hue='pclass')"
   ]
  },
  {
   "cell_type": "code",
   "execution_count": 73,
   "metadata": {},
   "outputs": [
    {
     "data": {
      "text/plain": [
       "<matplotlib.axes._subplots.AxesSubplot at 0x243efa70be0>"
      ]
     },
     "execution_count": 73,
     "metadata": {},
     "output_type": "execute_result"
    },
    {
     "data": {
      "image/png": "[encoded data removed]",
      "text/plain": [
       "<Figure size 432x288 with 1 Axes>"
      ]
     },
     "metadata": {},
     "output_type": "display_data"
    }
   ],
   "source": [
    "#There were few senior citizens and most people belonged to the younger age group\n",
    "sns.set_style('darkgrid')\n",
    "\n",
    "sns.distplot(df['age'].dropna(),kde=False, bins=30)"
   ]
  },
  {
   "cell_type": "code",
   "execution_count": 74,
   "metadata": {},
   "outputs": [
    {
     "data": {
      "text/plain": [
       "<matplotlib.axes._subplots.AxesSubplot at 0x243efb32f98>"
      ]
     },
     "execution_count": 74,
     "metadata": {},
     "output_type": "execute_result"
    },
    {
     "data": {
      "image/png": "[encoded data removed]",
      "text/plain": [
       "<Figure size 432x288 with 1 Axes>"
      ]
     },
     "metadata": {},
     "output_type": "display_data"
    }
   ],
   "source": [
    "#Category 0 were single's with no spouse or children, Category 1 are probably married couples.\n",
    "sns.set_style('whitegrid')\n",
    "sns.countplot(x='sibsp', data=df) "
   ]
  },
  {
   "cell_type": "code",
   "execution_count": 75,
   "metadata": {},
   "outputs": [
    {
     "data": {
      "text/html": [
       "        <script type=\"text/javascript\">\n",
       "        window.PlotlyConfig = {MathJaxConfig: 'local'};\n",
       "        if (window.MathJax) {MathJax.Hub.Config({SVG: {font: \"STIX-Web\"}});}\n",
       "        if (typeof require !== 'undefined') {\n",
       "        require.undef(\"plotly\");\n",
       "        requirejs.config({\n",
       "            paths: {\n",
       "                'plotly': ['https://cdn.plot.ly/plotly-latest.min']\n",
       "            }\n",
       "        });\n",
       "        require(['plotly'], function(Plotly) {\n",
       "            window._Plotly = Plotly;\n",
       "        });\n",
       "        }\n",
       "        </script>\n",
       "        "
      ]
     },
     "metadata": {},
     "output_type": "display_data"
    },
    {
     "data": {
      "application/vnd.plotly.v1+json": {
       "config": {
        "linkText": "Export to plot.ly",
        "plotlyServerURL": "https://plot.ly",
        "showLink": true
       },
       "data": [
        {
         "histfunc": "count",
         "histnorm": "",
         "marker": {
          "color": "rgba(255, 153, 51, 1.0)",
          "line": {
           "color": "#4D5663",
           "width": 1.3
          }
         },
         "name": "fare",
         "nbinsx": 30,
         "opacity": 0.8,
         "orientation": "v",
         "type": "histogram",
         "x": [
          211.3375,
          151.55,
          151.55,
          151.55,
          151.55,
          26.55,
          77.9583,
          0,
          51.4792,
          49.5042,
          227.525,
          227.525,
          69.3,
          78.85,
          30,
          25.925,
          247.5208,
          247.5208,
          76.2917,
          75.2417,
          52.5542,
          52.5542,
          30,
          227.525,
          221.7792,
          26,
          91.0792,
          91.0792,
          135.6333,
          26.55,
          35.5,
          31,
          164.8667,
          26.55,
          26.55,
          262.375,
          55,
          26.55,
          30.5,
          50.4958,
          39.6,
          27.7208,
          51.4792,
          76.2917,
          134.5,
          26.55,
          31,
          26.2875,
          27.4458,
          512.3292,
          512.3292,
          5,
          47.1,
          47.1,
          120,
          120,
          120,
          120,
          26,
          27.7208,
          78.85,
          78.85,
          61.175,
          61.175,
          53.1,
          53.1,
          262.375,
          86.5,
          29.7,
          55,
          0,
          136.7792,
          136.7792,
          151.55,
          52,
          25.5875,
          83.1583,
          83.1583,
          83.1583,
          25.7,
          26.55,
          71,
          71,
          26.55,
          71.2833,
          71.2833,
          26.55,
          30.5,
          151.55,
          52,
          52,
          57,
          57,
          81.8583,
          81.8583,
          81.8583,
          106.425,
          247.5208,
          106.425,
          39.6,
          56.9292,
          29.7,
          83.1583,
          227.525,
          78.2667,
          31.6792,
          221.7792,
          31.6833,
          110.8833,
          26.3875,
          27.75,
          263,
          263,
          263,
          263,
          263,
          263,
          56.9292,
          26.55,
          133.65,
          27.7208,
          133.65,
          49.5,
          79.2,
          79.2,
          0,
          53.1,
          53.1,
          38.5,
          211.5,
          59.4,
          59.4,
          79.2,
          89.1042,
          89.1042,
          34.6542,
          28.5,
          30,
          153.4625,
          153.4625,
          63.3583,
          63.3583,
          79.2,
          55.4417,
          55.4417,
          76.7292,
          76.7292,
          42.4,
          83.475,
          83.475,
          0,
          76.7292,
          30,
          83.1583,
          93.5,
          93.5,
          42.5,
          51.8625,
          50,
          57.9792,
          57.9792,
          77.9583,
          52,
          52,
          26.55,
          90,
          30.6958,
          90,
          80,
          28.7125,
          0,
          26,
          26,
          211.5,
          29.7,
          51.8625,
          51.8625,
          52.5542,
          52.5542,
          26.55,
          211.3375,
          25.9292,
          106.425,
          512.3292,
          27.7208,
          26.55,
          27.7208,
          39.4,
          39.4,
          30,
          77.9583,
          45.5,
          146.5208,
          211.3375,
          26,
          86.5,
          29.7,
          53.1,
          53.1,
          49.5042,
          75.2417,
          51.8625,
          26.2875,
          82.1708,
          82.1708,
          26.55,
          90,
          90,
          90,
          57.75,
          30.5,
          42.4,
          29.7,
          113.275,
          113.275,
          113.275,
          26.2833,
          26,
          108.9,
          25.7417,
          61.9792,
          61.9792,
          27.7208,
          0,
          28.5,
          93.5,
          66.6,
          66.6,
          108.9,
          108.9,
          93.5,
          30.5,
          52,
          83.1583,
          0,
          39.6,
          135.6333,
          227.525,
          211.3375,
          50.4958,
          26.55,
          50,
          27.7208,
          79.2,
          40.125,
          86.5,
          59.4,
          59.4,
          26.55,
          262.375,
          262.375,
          262.375,
          262.375,
          262.375,
          30.5,
          69.3,
          26,
          57.75,
          31,
          26.55,
          153.4625,
          26.2875,
          55.9,
          55.9,
          35.5,
          35.5,
          26.55,
          30.6958,
          60,
          26,
          60,
          82.2667,
          82.2667,
          134.5,
          134.5,
          134.5,
          146.5208,
          146.5208,
          30.5,
          26.55,
          55.4417,
          55.4417,
          78.2667,
          27.7208,
          80,
          221.7792,
          221.7792,
          32.3208,
          25.9292,
          79.65,
          79.65,
          79.65,
          52,
          52,
          110.8833,
          110.8833,
          110.8833,
          79.2,
          28.5375,
          27.7208,
          33.5,
          34.0208,
          512.3292,
          75.25,
          75.25,
          26.55,
          77.2875,
          77.2875,
          135.6333,
          164.8667,
          164.8667,
          164.8667,
          211.5,
          211.5,
          211.5,
          26.55,
          61.3792,
          61.3792,
          35,
          134.5,
          35.5,
          26.55,
          135.6333,
          24,
          24,
          13,
          11.5,
          10.5,
          26,
          26,
          13,
          11.5,
          10.5,
          13,
          10.5,
          12.525,
          26,
          26,
          26,
          39,
          39,
          39,
          39,
          13,
          13,
          13,
          13,
          13,
          13,
          13,
          39,
          39,
          39,
          26,
          26,
          13,
          13,
          13,
          13,
          29,
          29,
          29,
          21,
          0,
          13,
          26,
          26,
          13.5,
          26,
          26,
          30,
          30,
          26,
          26,
          10.5,
          13,
          10.5,
          26.25,
          26.25,
          26.25,
          10.5,
          13,
          21,
          11.5,
          0,
          36.75,
          73.5,
          36.75,
          13,
          13,
          73.5,
          27.7208,
          27.7208,
          31.5,
          73.5,
          23,
          23,
          26,
          32.5,
          32.5,
          32.5,
          13.8583,
          13.8583,
          13,
          13,
          13,
          26,
          26,
          10.5,
          13,
          0,
          13,
          26,
          21,
          21,
          13,
          26,
          10.5,
          10.5,
          11.5,
          11.5,
          13.5,
          13,
          13,
          13,
          13,
          13,
          14.5,
          14.5,
          13,
          33,
          33,
          10.5,
          10.5,
          26.25,
          26.25,
          26.25,
          65,
          65,
          65,
          65,
          16,
          73.5,
          73.5,
          73.5,
          13,
          23,
          11.5,
          13,
          23,
          13,
          26,
          26,
          73.5,
          13,
          26,
          26,
          12.275,
          10.5,
          27,
          27,
          15,
          31.5,
          31.5,
          10.5,
          13.7917,
          26,
          26,
          21,
          12.35,
          12.35,
          13.5,
          12.35,
          0,
          10.5,
          26,
          26,
          10.7083,
          41.5792,
          41.5792,
          41.5792,
          41.5792,
          12,
          33,
          10.5,
          12.875,
          10.5,
          12.35,
          26,
          26,
          10.5,
          15.0458,
          37.0042,
          37.0042,
          37.0042,
          15.5792,
          13,
          16,
          13.5,
          13,
          26,
          19.5,
          19.5,
          10.5,
          13,
          13,
          10.5,
          13,
          14,
          26,
          10.5,
          9.6875,
          30.0708,
          30.0708,
          26,
          26,
          26,
          13,
          36.75,
          13.5,
          13.8625,
          10.5,
          13,
          10.5,
          13.8625,
          10.5,
          13.8583,
          10.5,
          0,
          26,
          10.5,
          15.05,
          13,
          21,
          26,
          21,
          13,
          13,
          12.7375,
          15.0333,
          26,
          26,
          26,
          10.5,
          21,
          21,
          13,
          15.0458,
          18.75,
          18.75,
          18.75,
          10.5,
          10.5,
          10.5,
          13,
          13,
          26,
          26,
          13,
          36.75,
          13,
          13.5,
          12.35,
          10.5,
          13,
          13,
          15.0458,
          10.5,
          13,
          65,
          10.5,
          13,
          12.65,
          10.5,
          21,
          21,
          13,
          21,
          21,
          10.5,
          21,
          0,
          15.75,
          15.75,
          13,
          26,
          26,
          23,
          23,
          23,
          27.75,
          27.75,
          27.75,
          27.75,
          10.5,
          12.875,
          13,
          13,
          13.5,
          13,
          7.55,
          20.25,
          20.25,
          20.25,
          7.65,
          7.65,
          7.925,
          7.2292,
          7.25,
          8.05,
          9.475,
          9.35,
          9.35,
          18.7875,
          7.8875,
          7.925,
          7.05,
          7.05,
          8.05,
          8.3,
          22.525,
          7.8542,
          31.275,
          31.275,
          31.275,
          7.925,
          7.775,
          31.275,
          31.275,
          31.275,
          7.7958,
          7.775,
          31.275,
          7.8542,
          7.8958,
          17.8,
          17.8,
          7.775,
          7.05,
          31.3875,
          31.3875,
          31.3875,
          31.3875,
          31.3875,
          31.3875,
          7.7958,
          31.3875,
          7.225,
          7.225,
          7.05,
          14.4583,
          7.225,
          7.8542,
          7.2292,
          7.225,
          15.85,
          15.85,
          19.2583,
          19.2583,
          19.2583,
          19.2583,
          8.05,
          7.225,
          7.8958,
          7.2292,
          14.4542,
          14.4542,
          7.8792,
          8.05,
          8.05,
          7.775,
          9.35,
          7.2292,
          4.0125,
          56.4958,
          7.775,
          7.75,
          7.8958,
          15.2458,
          15.2458,
          7.225,
          15.2458,
          7.75,
          15.5,
          15.5,
          16.1,
          7.725,
          7.8542,
          7.0458,
          7.25,
          7.7958,
          8.05,
          7.2833,
          7.8208,
          6.75,
          7.8792,
          8.6625,
          8.6625,
          8.6625,
          8.6625,
          8.6625,
          8.6625,
          7.75,
          7.75,
          8.05,
          14.4583,
          14.4583,
          7.7958,
          7.8542,
          7.75,
          7.75,
          7.25,
          8.05,
          7.7333,
          56.4958,
          8.05,
          14.4542,
          14.4542,
          7.05,
          8.05,
          7.25,
          7.4958,
          7.4958,
          7.7333,
          7.75,
          7.75,
          7.6292,
          7.75,
          8.05,
          7.8958,
          7.8958,
          7.8958,
          8.05,
          15.9,
          15.9,
          15.9,
          7.25,
          8.1583,
          16.1,
          16.1,
          8.6625,
          7.225,
          8.05,
          10.5167,
          10.1708,
          6.95,
          7.75,
          14.4,
          14.4,
          14.4,
          7.8958,
          7.8958,
          24.15,
          8.05,
          24.15,
          8.05,
          16.1,
          16.1,
          17.4,
          17.4,
          9.5,
          9.5,
          20.575,
          20.575,
          20.575,
          20.575,
          7.8958,
          7.8958,
          7.8958,
          7.25,
          7.25,
          7.8792,
          7.8958,
          8.6625,
          7.8958,
          7.2292,
          7.75,
          8.05,
          12.475,
          7.75,
          8.05,
          7.8958,
          7.75,
          7.55,
          13.9,
          13.9,
          7.775,
          7.775,
          6.975,
          7.225,
          7.2292,
          7.2292,
          7.2292,
          7.25,
          12.475,
          7.225,
          15.1,
          7.75,
          7.05,
          7.7958,
          7.75,
          7.75,
          6.95,
          7.8792,
          7.75,
          56.4958,
          34.375,
          34.375,
          8.05,
          34.375,
          34.375,
          34.375,
          7.75,
          7.25,
          7.7417,
          14.5,
          7.8958,
          8.05,
          7.7333,
          7.75,
          20.525,
          20.525,
          7.85,
          20.525,
          7.05,
          46.9,
          46.9,
          46.9,
          46.9,
          46.9,
          46.9,
          46.9,
          46.9,
          8.05,
          8.3625,
          8.05,
          9.8458,
          7.925,
          7.925,
          7.775,
          8.85,
          7.7333,
          19.9667,
          19.9667,
          15.85,
          15.85,
          9.5,
          7.2292,
          14.1083,
          7.8542,
          7.8542,
          14.1083,
          7.55,
          7.25,
          6.8583,
          18.7875,
          7.75,
          6.975,
          56.4958,
          6.75,
          7.925,
          7.925,
          8.9625,
          7.8958,
          7.775,
          7.75,
          12.2875,
          12.2875,
          6.45,
          22.525,
          7.925,
          7.75,
          8.05,
          7.65,
          7.8875,
          7.2292,
          7.8958,
          7.925,
          7.925,
          7.8958,
          7.8958,
          7.7958,
          7.05,
          7.8542,
          7.8542,
          7.0542,
          7.75,
          8.1125,
          6.4958,
          7.775,
          7.7958,
          8.6542,
          7.775,
          7.8542,
          11.1333,
          11.1333,
          0,
          7.775,
          0,
          11.1333,
          23.45,
          23.45,
          23.45,
          23.45,
          7.8958,
          7.8542,
          7.8542,
          9.825,
          9.825,
          7.925,
          7.125,
          8.4333,
          7.8958,
          7.7958,
          7.8542,
          7.5208,
          13.4167,
          13.4167,
          7.2292,
          7.2292,
          7.75,
          7.25,
          7.75,
          7.75,
          7.8292,
          8.05,
          7.75,
          14.4542,
          14.4542,
          7.75,
          7.75,
          7.7375,
          8.6625,
          8.6625,
          22.025,
          22.025,
          22.025,
          12.1833,
          7.8542,
          12.1833,
          7.8958,
          7.2292,
          7.225,
          9.5875,
          7.8958,
          56.4958,
          56.4958,
          7.25,
          7.75,
          56.4958,
          9.4833,
          7.775,
          7.775,
          7.225,
          25.4667,
          25.4667,
          25.4667,
          25.4667,
          25.4667,
          7.925,
          6.4375,
          15.5,
          15.5,
          0,
          24.15,
          9.5,
          7.775,
          7.75,
          15.55,
          15.55,
          7.925,
          7.8792,
          56.4958,
          7.55,
          16.1,
          16.1,
          7.8792,
          7.25,
          8.6625,
          7.0542,
          7.8542,
          7.5792,
          7.8958,
          7.55,
          7.75,
          7.1417,
          7.125,
          7.8792,
          7.75,
          8.05,
          7.925,
          7.2292,
          7.75,
          7.7375,
          7.2292,
          7.8958,
          7.8958,
          7.225,
          7.8958,
          7.75,
          7.75,
          23.25,
          23.25,
          23.25,
          7.7875,
          15.5,
          7.8792,
          8.0292,
          7.75,
          7.75,
          16.1,
          16.1,
          7.75,
          8.05,
          8.05,
          8.05,
          7.75,
          7.775,
          8.05,
          7.8958,
          7.8958,
          7.8958,
          7.8958,
          7.8792,
          7.65,
          12.475,
          12.475,
          8.05,
          24.15,
          24.15,
          8.4583,
          8.05,
          7.75,
          7.775,
          15.2458,
          15.2458,
          15.2458,
          7.2292,
          8.05,
          7.7333,
          7.75,
          8.05,
          15.5,
          15.5,
          15.5,
          7.75,
          7.8958,
          7.225,
          15.7417,
          15.7417,
          15.7417,
          8.05,
          7.8958,
          7.2292,
          7.75,
          7.8958,
          11.2417,
          11.2417,
          7.925,
          8.05,
          7.775,
          7.8542,
          7.8542,
          7.125,
          7.925,
          7.8,
          7.2292,
          7.75,
          6.2375,
          15.5,
          7.8292,
          15.5,
          7.7333,
          7.75,
          7.75,
          9.225,
          7.75,
          7.75,
          7.8792,
          7.775,
          7.75,
          7.8292,
          3.1708,
          22.525,
          8.4042,
          7.3125,
          7.8542,
          7.8542,
          7.775,
          9.225,
          8.6625,
          8.6625,
          8.6625,
          9.2167,
          8.6833,
          7.6292,
          21.075,
          21.075,
          21.075,
          21.075,
          21.075,
          39.6875,
          39.6875,
          39.6875,
          39.6875,
          39.6875,
          39.6875,
          8.6625,
          14.5,
          8.7125,
          7.8958,
          13.775,
          13.775,
          13.775,
          7,
          7.775,
          8.05,
          7.925,
          7.925,
          7.25,
          7.775,
          22.3583,
          22.3583,
          22.3583,
          8.1375,
          8.05,
          7.8958,
          7.8958,
          7.8958,
          7.775,
          7.775,
          8.05,
          7.8958,
          8.6625,
          8.6625,
          7.8958,
          8.1125,
          7.2292,
          7.25,
          7.8958,
          8.05,
          29.125,
          29.125,
          29.125,
          29.125,
          29.125,
          29.125,
          39.6875,
          7.125,
          7.7208,
          14.5,
          14.5,
          14.5,
          14.5,
          8.05,
          7.775,
          20.2125,
          20.2125,
          20.2125,
          8.05,
          8.05,
          8.05,
          7.75,
          24.15,
          7.2292,
          7.225,
          7.225,
          7.7292,
          7.575,
          7.25,
          69.55,
          69.55,
          69.55,
          69.55,
          69.55,
          69.55,
          69.55,
          69.55,
          69.55,
          69.55,
          69.55,
          9.325,
          7.65,
          7.925,
          21.6792,
          21.6792,
          21.6792,
          16.7,
          16.7,
          16.7,
          9.5,
          8.05,
          8.05,
          7.725,
          7.8958,
          7.75,
          9.5,
          15.1,
          7.7792,
          8.05,
          8.05,
          7.2292,
          8.05,
          7.8958,
          7.925,
          7.4958,
          27.9,
          27.9,
          27.9,
          27.9,
          27.9,
          27.9,
          7.8958,
          8.05,
          8.6625,
          7.75,
          7.7333,
          7.65,
          8.05,
          8.05,
          8.05,
          7.8958,
          8.6625,
          7.55,
          8.05,
          null,
          7.8958,
          9.8375,
          7.925,
          8.6625,
          10.4625,
          10.4625,
          8.05,
          7.925,
          7.05,
          7.775,
          9.225,
          7.7958,
          7.7958,
          8.05,
          8.5167,
          6.4375,
          6.4375,
          7.225,
          8.5167,
          8.05,
          16.1,
          16.1,
          7.925,
          7.75,
          7.8958,
          8.05,
          8.05,
          7.2292,
          0,
          7.2292,
          15.2458,
          15.2458,
          15.2458,
          7.8958,
          9.8417,
          9.5875,
          14.5,
          14.5,
          14.5,
          24.15,
          24.15,
          24.15,
          9.5,
          9.5,
          9.5,
          9.5,
          9,
          18,
          18,
          18,
          18,
          7.225,
          7.8542,
          7.8542,
          7.8958,
          9,
          8.05,
          7.55,
          8.05,
          9.5,
          7.2292,
          7.75,
          6.4958,
          6.4958,
          7,
          8.7125,
          7.55,
          8.05,
          16.1,
          7.25,
          8.6625,
          7.25,
          9.5,
          14.4542,
          14.4542,
          7.225,
          7.225,
          14.4583,
          14.4542,
          14.4542,
          7.225,
          7.225,
          7.875,
          null
         ]
        }
       ],
       "layout": {
        "barmode": "overlay",
        "legend": {
         "bgcolor": "#F5F6F9",
         "font": {
          "color": "#4D5663"
         }
        },
        "paper_bgcolor": "#F5F6F9",
        "plot_bgcolor": "#F5F6F9",
        "template": {
         "data": {
          "bar": [
           {
            "error_x": {
             "color": "#2a3f5f"
            },
            "error_y": {
             "color": "#2a3f5f"
            },
            "marker": {
             "line": {
              "color": "#E5ECF6",
              "width": 0.5
             }
            },
            "type": "bar"
           }
          ],
          "barpolar": [
           {
            "marker": {
             "line": {
              "color": "#E5ECF6",
              "width": 0.5
             }
            },
            "type": "barpolar"
           }
          ],
          "carpet": [
           {
            "aaxis": {
             "endlinecolor": "#2a3f5f",
             "gridcolor": "white",
             "linecolor": "white",
             "minorgridcolor": "white",
             "startlinecolor": "#2a3f5f"
            },
            "baxis": {
             "endlinecolor": "#2a3f5f",
             "gridcolor": "white",
             "linecolor": "white",
             "minorgridcolor": "white",
             "startlinecolor": "#2a3f5f"
            },
            "type": "carpet"
           }
          ],
          "choropleth": [
           {
            "colorbar": {
             "outlinewidth": 0,
             "ticks": ""
            },
            "type": "choropleth"
           }
          ],
          "contour": [
           {
            "colorbar": {
             "outlinewidth": 0,
             "ticks": ""
            },
            "colorscale": [
             [
              0,
              "#0d0887"
             ],
             [
              0.1111111111111111,
              "#46039f"
             ],
             [
              0.2222222222222222,
              "#7201a8"
             ],
             [
              0.3333333333333333,
              "#9c179e"
             ],
             [
              0.4444444444444444,
              "#bd3786"
             ],
             [
              0.5555555555555556,
              "#d8576b"
             ],
             [
              0.6666666666666666,
              "#ed7953"
             ],
             [
              0.7777777777777778,
              "#fb9f3a"
             ],
             [
              0.8888888888888888,
              "#fdca26"
             ],
             [
              1,
              "#f0f921"
             ]
            ],
            "type": "contour"
           }
          ],
          "contourcarpet": [
           {
            "colorbar": {
             "outlinewidth": 0,
             "ticks": ""
            },
            "type": "contourcarpet"
           }
          ],
          "heatmap": [
           {
            "colorbar": {
             "outlinewidth": 0,
             "ticks": ""
            },
            "colorscale": [
             [
              0,
              "#0d0887"
             ],
             [
              0.1111111111111111,
              "#46039f"
             ],
             [
              0.2222222222222222,
              "#7201a8"
             ],
             [
              0.3333333333333333,
              "#9c179e"
             ],
             [
              0.4444444444444444,
              "#bd3786"
             ],
             [
              0.5555555555555556,
              "#d8576b"
             ],
             [
              0.6666666666666666,
              "#ed7953"
             ],
             [
              0.7777777777777778,
              "#fb9f3a"
             ],
             [
              0.8888888888888888,
              "#fdca26"
             ],
             [
              1,
              "#f0f921"
             ]
            ],
            "type": "heatmap"
           }
          ],
          "heatmapgl": [
           {
            "colorbar": {
             "outlinewidth": 0,
             "ticks": ""
            },
            "colorscale": [
             [
              0,
              "#0d0887"
             ],
             [
              0.1111111111111111,
              "#46039f"
             ],
             [
              0.2222222222222222,
              "#7201a8"
             ],
             [
              0.3333333333333333,
              "#9c179e"
             ],
             [
              0.4444444444444444,
              "#bd3786"
             ],
             [
              0.5555555555555556,
              "#d8576b"
             ],
             [
              0.6666666666666666,
              "#ed7953"
             ],
             [
              0.7777777777777778,
              "#fb9f3a"
             ],
             [
              0.8888888888888888,
              "#fdca26"
             ],
             [
              1,
              "#f0f921"
             ]
            ],
            "type": "heatmapgl"
           }
          ],
          "histogram": [
           {
            "marker": {
             "colorbar": {
              "outlinewidth": 0,
              "ticks": ""
             }
            },
            "type": "histogram"
           }
          ],
          "histogram2d": [
           {
            "colorbar": {
             "outlinewidth": 0,
             "ticks": ""
            },
            "colorscale": [
             [
              0,
              "#0d0887"
             ],
             [
              0.1111111111111111,
              "#46039f"
             ],
             [
              0.2222222222222222,
              "#7201a8"
             ],
             [
              0.3333333333333333,
              "#9c179e"
             ],
             [
              0.4444444444444444,
              "#bd3786"
             ],
             [
              0.5555555555555556,
              "#d8576b"
             ],
             [
              0.6666666666666666,
              "#ed7953"
             ],
             [
              0.7777777777777778,
              "#fb9f3a"
             ],
             [
              0.8888888888888888,
              "#fdca26"
             ],
             [
              1,
              "#f0f921"
             ]
            ],
            "type": "histogram2d"
           }
          ],
          "histogram2dcontour": [
           {
            "colorbar": {
             "outlinewidth": 0,
             "ticks": ""
            },
            "colorscale": [
             [
              0,
              "#0d0887"
             ],
             [
              0.1111111111111111,
              "#46039f"
             ],
             [
              0.2222222222222222,
              "#7201a8"
             ],
             [
              0.3333333333333333,
              "#9c179e"
             ],
             [
              0.4444444444444444,
              "#bd3786"
             ],
             [
              0.5555555555555556,
              "#d8576b"
             ],
             [
              0.6666666666666666,
              "#ed7953"
             ],
             [
              0.7777777777777778,
              "#fb9f3a"
             ],
             [
              0.8888888888888888,
              "#fdca26"
             ],
             [
              1,
              "#f0f921"
             ]
            ],
            "type": "histogram2dcontour"
           }
          ],
          "mesh3d": [
           {
            "colorbar": {
             "outlinewidth": 0,
             "ticks": ""
            },
            "type": "mesh3d"
           }
          ],
          "parcoords": [
           {
            "line": {
             "colorbar": {
              "outlinewidth": 0,
              "ticks": ""
             }
            },
            "type": "parcoords"
           }
          ],
          "pie": [
           {
            "automargin": true,
            "type": "pie"
           }
          ],
          "scatter": [
           {
            "marker": {
             "colorbar": {
              "outlinewidth": 0,
              "ticks": ""
             }
            },
            "type": "scatter"
           }
          ],
          "scatter3d": [
           {
            "line": {
             "colorbar": {
              "outlinewidth": 0,
              "ticks": ""
             }
            },
            "marker": {
             "colorbar": {
              "outlinewidth": 0,
              "ticks": ""
             }
            },
            "type": "scatter3d"
           }
          ],
          "scattercarpet": [
           {
            "marker": {
             "colorbar": {
              "outlinewidth": 0,
              "ticks": ""
             }
            },
            "type": "scattercarpet"
           }
          ],
          "scattergeo": [
           {
            "marker": {
             "colorbar": {
              "outlinewidth": 0,
              "ticks": ""
             }
            },
            "type": "scattergeo"
           }
          ],
          "scattergl": [
           {
            "marker": {
             "colorbar": {
              "outlinewidth": 0,
              "ticks": ""
             }
            },
            "type": "scattergl"
           }
          ],
          "scattermapbox": [
           {
            "marker": {
             "colorbar": {
              "outlinewidth": 0,
              "ticks": ""
             }
            },
            "type": "scattermapbox"
           }
          ],
          "scatterpolar": [
           {
            "marker": {
             "colorbar": {
              "outlinewidth": 0,
              "ticks": ""
             }
            },
            "type": "scatterpolar"
           }
          ],
          "scatterpolargl": [
           {
            "marker": {
             "colorbar": {
              "outlinewidth": 0,
              "ticks": ""
             }
            },
            "type": "scatterpolargl"
           }
          ],
          "scatterternary": [
           {
            "marker": {
             "colorbar": {
              "outlinewidth": 0,
              "ticks": ""
             }
            },
            "type": "scatterternary"
           }
          ],
          "surface": [
           {
            "colorbar": {
             "outlinewidth": 0,
             "ticks": ""
            },
            "colorscale": [
             [
              0,
              "#0d0887"
             ],
             [
              0.1111111111111111,
              "#46039f"
             ],
             [
              0.2222222222222222,
              "#7201a8"
             ],
             [
              0.3333333333333333,
              "#9c179e"
             ],
             [
              0.4444444444444444,
              "#bd3786"
             ],
             [
              0.5555555555555556,
              "#d8576b"
             ],
             [
              0.6666666666666666,
              "#ed7953"
             ],
             [
              0.7777777777777778,
              "#fb9f3a"
             ],
             [
              0.8888888888888888,
              "#fdca26"
             ],
             [
              1,
              "#f0f921"
             ]
            ],
            "type": "surface"
           }
          ],
          "table": [
           {
            "cells": {
             "fill": {
              "color": "#EBF0F8"
             },
             "line": {
              "color": "white"
             }
            },
            "header": {
             "fill": {
              "color": "#C8D4E3"
             },
             "line": {
              "color": "white"
             }
            },
            "type": "table"
           }
          ]
         },
         "layout": {
          "annotationdefaults": {
           "arrowcolor": "#2a3f5f",
           "arrowhead": 0,
           "arrowwidth": 1
          },
          "coloraxis": {
           "colorbar": {
            "outlinewidth": 0,
            "ticks": ""
           }
          },
          "colorscale": {
           "diverging": [
            [
             0,
             "#8e0152"
            ],
            [
             0.1,
             "#c51b7d"
            ],
            [
             0.2,
             "#de77ae"
            ],
            [
             0.3,
             "#f1b6da"
            ],
            [
             0.4,
             "#fde0ef"
            ],
            [
             0.5,
             "#f7f7f7"
            ],
            [
             0.6,
             "#e6f5d0"
            ],
            [
             0.7,
             "#b8e186"
            ],
            [
             0.8,
             "#7fbc41"
            ],
            [
             0.9,
             "#4d9221"
            ],
            [
             1,
             "#276419"
            ]
           ],
           "sequential": [
            [
             0,
             "#0d0887"
            ],
            [
             0.1111111111111111,
             "#46039f"
            ],
            [
             0.2222222222222222,
             "#7201a8"
            ],
            [
             0.3333333333333333,
             "#9c179e"
            ],
            [
             0.4444444444444444,
             "#bd3786"
            ],
            [
             0.5555555555555556,
             "#d8576b"
            ],
            [
             0.6666666666666666,
             "#ed7953"
            ],
            [
             0.7777777777777778,
             "#fb9f3a"
            ],
            [
             0.8888888888888888,
             "#fdca26"
            ],
            [
             1,
             "#f0f921"
            ]
           ],
           "sequentialminus": [
            [
             0,
             "#0d0887"
            ],
            [
             0.1111111111111111,
             "#46039f"
            ],
            [
             0.2222222222222222,
             "#7201a8"
            ],
            [
             0.3333333333333333,
             "#9c179e"
            ],
            [
             0.4444444444444444,
             "#bd3786"
            ],
            [
             0.5555555555555556,
             "#d8576b"
            ],
            [
             0.6666666666666666,
             "#ed7953"
            ],
            [
             0.7777777777777778,
             "#fb9f3a"
            ],
            [
             0.8888888888888888,
             "#fdca26"
            ],
            [
             1,
             "#f0f921"
            ]
           ]
          },
          "colorway": [
           "#636efa",
           "#EF553B",
           "#00cc96",
           "#ab63fa",
           "#FFA15A",
           "#19d3f3",
           "#FF6692",
           "#B6E880",
           "#FF97FF",
           "#FECB52"
          ],
          "font": {
           "color": "#2a3f5f"
          },
          "geo": {
           "bgcolor": "white",
           "lakecolor": "white",
           "landcolor": "#E5ECF6",
           "showlakes": true,
           "showland": true,
           "subunitcolor": "white"
          },
          "hoverlabel": {
           "align": "left"
          },
          "hovermode": "closest",
          "mapbox": {
           "style": "light"
          },
          "paper_bgcolor": "white",
          "plot_bgcolor": "#E5ECF6",
          "polar": {
           "angularaxis": {
            "gridcolor": "white",
            "linecolor": "white",
            "ticks": ""
           },
           "bgcolor": "#E5ECF6",
           "radialaxis": {
            "gridcolor": "white",
            "linecolor": "white",
            "ticks": ""
           }
          },
          "scene": {
           "xaxis": {
            "backgroundcolor": "#E5ECF6",
            "gridcolor": "white",
            "gridwidth": 2,
            "linecolor": "white",
            "showbackground": true,
            "ticks": "",
            "zerolinecolor": "white"
           },
           "yaxis": {
            "backgroundcolor": "#E5ECF6",
            "gridcolor": "white",
            "gridwidth": 2,
            "linecolor": "white",
            "showbackground": true,
            "ticks": "",
            "zerolinecolor": "white"
           },
           "zaxis": {
            "backgroundcolor": "#E5ECF6",
            "gridcolor": "white",
            "gridwidth": 2,
            "linecolor": "white",
            "showbackground": true,
            "ticks": "",
            "zerolinecolor": "white"
           }
          },
          "shapedefaults": {
           "line": {
            "color": "#2a3f5f"
           }
          },
          "ternary": {
           "aaxis": {
            "gridcolor": "white",
            "linecolor": "white",
            "ticks": ""
           },
           "baxis": {
            "gridcolor": "white",
            "linecolor": "white",
            "ticks": ""
           },
           "bgcolor": "#E5ECF6",
           "caxis": {
            "gridcolor": "white",
            "linecolor": "white",
            "ticks": ""
           }
          },
          "title": {
           "x": 0.05
          },
          "xaxis": {
           "automargin": true,
           "gridcolor": "white",
           "linecolor": "white",
           "ticks": "",
           "title": {
            "standoff": 15
           },
           "zerolinecolor": "white",
           "zerolinewidth": 2
          },
          "yaxis": {
           "automargin": true,
           "gridcolor": "white",
           "linecolor": "white",
           "ticks": "",
           "title": {
            "standoff": 15
           },
           "zerolinecolor": "white",
           "zerolinewidth": 2
          }
         }
        },
        "title": {
         "font": {
          "color": "#4D5663"
         }
        },
        "xaxis": {
         "gridcolor": "#E1E5ED",
         "showgrid": true,
         "tickfont": {
          "color": "#4D5663"
         },
         "title": {
          "font": {
           "color": "#4D5663"
          },
          "text": ""
         },
         "zerolinecolor": "#E1E5ED"
        },
        "yaxis": {
         "gridcolor": "#E1E5ED",
         "showgrid": true,
         "tickfont": {
          "color": "#4D5663"
         },
         "title": {
          "font": {
           "color": "#4D5663"
          },
          "text": ""
         },
         "zerolinecolor": "#E1E5ED"
        }
       }
      },
      "text/html": [
       "<div>\n",
       "        \n",
       "        \n",
       "            <div id=\"3a496e8c-75dc-441e-b652-51e2a4c05dfa\" class=\"plotly-graph-div\" style=\"height:525px; width:100%;\"></div>\n",
       "            <script type=\"text/javascript\">\n",
       "                require([\"plotly\"], function(Plotly) {\n",
       "                    window.PLOTLYENV=window.PLOTLYENV || {};\n",
       "                    window.PLOTLYENV.BASE_URL='https://plot.ly';\n",
       "                    \n",
       "                if (document.getElementById(\"3a496e8c-75dc-441e-b652-51e2a4c05dfa\")) {\n",
       "                    Plotly.newPlot(\n",
       "                        '3a496e8c-75dc-441e-b652-51e2a4c05dfa',\n",
       "                        [{\"histfunc\": \"count\", \"histnorm\": \"\", \"marker\": {\"color\": \"rgba(255, 153, 51, 1.0)\", \"line\": {\"color\": \"#4D5663\", \"width\": 1.3}}, \"name\": \"fare\", \"nbinsx\": 30, \"opacity\": 0.8, \"orientation\": \"v\", \"type\": \"histogram\", \"x\": [211.3375, 151.55, 151.55, 151.55, 151.55, 26.55, 77.9583, 0.0, 51.4792, 49.5042, 227.525, 227.525, 69.3, 78.85, 30.0, 25.925, 247.5208, 247.5208, 76.2917, 75.2417, 52.5542, 52.5542, 30.0, 227.525, 221.7792, 26.0, 91.0792, 91.0792, 135.6333, 26.55, 35.5, 31.0, 164.8667, 26.55, 26.55, 262.375, 55.0, 26.55, 30.5, 50.4958, 39.6, 27.7208, 51.4792, 76.2917, 134.5, 26.55, 31.0, 26.2875, 27.4458, 512.3292, 512.3292, 5.0, 47.1, 47.1, 120.0, 120.0, 120.0, 120.0, 26.0, 27.7208, 78.85, 78.85, 61.175, 61.175, 53.1, 53.1, 262.375, 86.5, 29.7, 55.0, 0.0, 136.7792, 136.7792, 151.55, 52.0, 25.5875, 83.1583, 83.1583, 83.1583, 25.7, 26.55, 71.0, 71.0, 26.55, 71.2833, 71.2833, 26.55, 30.5, 151.55, 52.0, 52.0, 57.0, 57.0, 81.8583, 81.8583, 81.8583, 106.425, 247.5208, 106.425, 39.6, 56.9292, 29.7, 83.1583, 227.525, 78.2667, 31.6792, 221.7792, 31.6833, 110.8833, 26.3875, 27.75, 263.0, 263.0, 263.0, 263.0, 263.0, 263.0, 56.9292, 26.55, 133.65, 27.7208, 133.65, 49.5, 79.2, 79.2, 0.0, 53.1, 53.1, 38.5, 211.5, 59.4, 59.4, 79.2, 89.1042, 89.1042, 34.6542, 28.5, 30.0, 153.4625, 153.4625, 63.3583, 63.3583, 79.2, 55.4417, 55.4417, 76.7292, 76.7292, 42.4, 83.475, 83.475, 0.0, 76.7292, 30.0, 83.1583, 93.5, 93.5, 42.5, 51.8625, 50.0, 57.9792, 57.9792, 77.9583, 52.0, 52.0, 26.55, 90.0, 30.6958, 90.0, 80.0, 28.7125, 0.0, 26.0, 26.0, 211.5, 29.7, 51.8625, 51.8625, 52.5542, 52.5542, 26.55, 211.3375, 25.9292, 106.425, 512.3292, 27.7208, 26.55, 27.7208, 39.4, 39.4, 30.0, 77.9583, 45.5, 146.5208, 211.3375, 26.0, 86.5, 29.7, 53.1, 53.1, 49.5042, 75.2417, 51.8625, 26.2875, 82.1708, 82.1708, 26.55, 90.0, 90.0, 90.0, 57.75, 30.5, 42.4, 29.7, 113.275, 113.275, 113.275, 26.2833, 26.0, 108.9, 25.7417, 61.9792, 61.9792, 27.7208, 0.0, 28.5, 93.5, 66.6, 66.6, 108.9, 108.9, 93.5, 30.5, 52.0, 83.1583, 0.0, 39.6, 135.6333, 227.525, 211.3375, 50.4958, 26.55, 50.0, 27.7208, 79.2, 40.125, 86.5, 59.4, 59.4, 26.55, 262.375, 262.375, 262.375, 262.375, 262.375, 30.5, 69.3, 26.0, 57.75, 31.0, 26.55, 153.4625, 26.2875, 55.9, 55.9, 35.5, 35.5, 26.55, 30.6958, 60.0, 26.0, 60.0, 82.2667, 82.2667, 134.5, 134.5, 134.5, 146.5208, 146.5208, 30.5, 26.55, 55.4417, 55.4417, 78.2667, 27.7208, 80.0, 221.7792, 221.7792, 32.3208, 25.9292, 79.65, 79.65, 79.65, 52.0, 52.0, 110.8833, 110.8833, 110.8833, 79.2, 28.5375, 27.7208, 33.5, 34.0208, 512.3292, 75.25, 75.25, 26.55, 77.2875, 77.2875, 135.6333, 164.8667, 164.8667, 164.8667, 211.5, 211.5, 211.5, 26.55, 61.3792, 61.3792, 35.0, 134.5, 35.5, 26.55, 135.6333, 24.0, 24.0, 13.0, 11.5, 10.5, 26.0, 26.0, 13.0, 11.5, 10.5, 13.0, 10.5, 12.525, 26.0, 26.0, 26.0, 39.0, 39.0, 39.0, 39.0, 13.0, 13.0, 13.0, 13.0, 13.0, 13.0, 13.0, 39.0, 39.0, 39.0, 26.0, 26.0, 13.0, 13.0, 13.0, 13.0, 29.0, 29.0, 29.0, 21.0, 0.0, 13.0, 26.0, 26.0, 13.5, 26.0, 26.0, 30.0, 30.0, 26.0, 26.0, 10.5, 13.0, 10.5, 26.25, 26.25, 26.25, 10.5, 13.0, 21.0, 11.5, 0.0, 36.75, 73.5, 36.75, 13.0, 13.0, 73.5, 27.7208, 27.7208, 31.5, 73.5, 23.0, 23.0, 26.0, 32.5, 32.5, 32.5, 13.8583, 13.8583, 13.0, 13.0, 13.0, 26.0, 26.0, 10.5, 13.0, 0.0, 13.0, 26.0, 21.0, 21.0, 13.0, 26.0, 10.5, 10.5, 11.5, 11.5, 13.5, 13.0, 13.0, 13.0, 13.0, 13.0, 14.5, 14.5, 13.0, 33.0, 33.0, 10.5, 10.5, 26.25, 26.25, 26.25, 65.0, 65.0, 65.0, 65.0, 16.0, 73.5, 73.5, 73.5, 13.0, 23.0, 11.5, 13.0, 23.0, 13.0, 26.0, 26.0, 73.5, 13.0, 26.0, 26.0, 12.275, 10.5, 27.0, 27.0, 15.0, 31.5, 31.5, 10.5, 13.7917, 26.0, 26.0, 21.0, 12.35, 12.35, 13.5, 12.35, 0.0, 10.5, 26.0, 26.0, 10.7083, 41.5792, 41.5792, 41.5792, 41.5792, 12.0, 33.0, 10.5, 12.875, 10.5, 12.35, 26.0, 26.0, 10.5, 15.0458, 37.0042, 37.0042, 37.0042, 15.5792, 13.0, 16.0, 13.5, 13.0, 26.0, 19.5, 19.5, 10.5, 13.0, 13.0, 10.5, 13.0, 14.0, 26.0, 10.5, 9.6875, 30.0708, 30.0708, 26.0, 26.0, 26.0, 13.0, 36.75, 13.5, 13.8625, 10.5, 13.0, 10.5, 13.8625, 10.5, 13.8583, 10.5, 0.0, 26.0, 10.5, 15.05, 13.0, 21.0, 26.0, 21.0, 13.0, 13.0, 12.7375, 15.0333, 26.0, 26.0, 26.0, 10.5, 21.0, 21.0, 13.0, 15.0458, 18.75, 18.75, 18.75, 10.5, 10.5, 10.5, 13.0, 13.0, 26.0, 26.0, 13.0, 36.75, 13.0, 13.5, 12.35, 10.5, 13.0, 13.0, 15.0458, 10.5, 13.0, 65.0, 10.5, 13.0, 12.65, 10.5, 21.0, 21.0, 13.0, 21.0, 21.0, 10.5, 21.0, 0.0, 15.75, 15.75, 13.0, 26.0, 26.0, 23.0, 23.0, 23.0, 27.75, 27.75, 27.75, 27.75, 10.5, 12.875, 13.0, 13.0, 13.5, 13.0, 7.55, 20.25, 20.25, 20.25, 7.65, 7.65, 7.925, 7.2292, 7.25, 8.05, 9.475, 9.35, 9.35, 18.7875, 7.8875, 7.925, 7.05, 7.05, 8.05, 8.3, 22.525, 7.8542, 31.275, 31.275, 31.275, 7.925, 7.775, 31.275, 31.275, 31.275, 7.7958, 7.775, 31.275, 7.8542, 7.8958, 17.8, 17.8, 7.775, 7.05, 31.3875, 31.3875, 31.3875, 31.3875, 31.3875, 31.3875, 7.7958, 31.3875, 7.225, 7.225, 7.05, 14.4583, 7.225, 7.8542, 7.2292, 7.225, 15.85, 15.85, 19.2583, 19.2583, 19.2583, 19.2583, 8.05, 7.225, 7.8958, 7.2292, 14.4542, 14.4542, 7.8792, 8.05, 8.05, 7.775, 9.35, 7.2292, 4.0125, 56.4958, 7.775, 7.75, 7.8958, 15.2458, 15.2458, 7.225, 15.2458, 7.75, 15.5, 15.5, 16.1, 7.725, 7.8542, 7.0458, 7.25, 7.7958, 8.05, 7.2833, 7.8208, 6.75, 7.8792, 8.6625, 8.6625, 8.6625, 8.6625, 8.6625, 8.6625, 7.75, 7.75, 8.05, 14.4583, 14.4583, 7.7958, 7.8542, 7.75, 7.75, 7.25, 8.05, 7.7333, 56.4958, 8.05, 14.4542, 14.4542, 7.05, 8.05, 7.25, 7.4958, 7.4958, 7.7333, 7.75, 7.75, 7.6292, 7.75, 8.05, 7.8958, 7.8958, 7.8958, 8.05, 15.9, 15.9, 15.9, 7.25, 8.1583, 16.1, 16.1, 8.6625, 7.225, 8.05, 10.5167, 10.1708, 6.95, 7.75, 14.4, 14.4, 14.4, 7.8958, 7.8958, 24.15, 8.05, 24.15, 8.05, 16.1, 16.1, 17.4, 17.4, 9.5, 9.5, 20.575, 20.575, 20.575, 20.575, 7.8958, 7.8958, 7.8958, 7.25, 7.25, 7.8792, 7.8958, 8.6625, 7.8958, 7.2292, 7.75, 8.05, 12.475, 7.75, 8.05, 7.8958, 7.75, 7.55, 13.9, 13.9, 7.775, 7.775, 6.975, 7.225, 7.2292, 7.2292, 7.2292, 7.25, 12.475, 7.225, 15.1, 7.75, 7.05, 7.7958, 7.75, 7.75, 6.95, 7.8792, 7.75, 56.4958, 34.375, 34.375, 8.05, 34.375, 34.375, 34.375, 7.75, 7.25, 7.7417, 14.5, 7.8958, 8.05, 7.7333, 7.75, 20.525, 20.525, 7.85, 20.525, 7.05, 46.9, 46.9, 46.9, 46.9, 46.9, 46.9, 46.9, 46.9, 8.05, 8.3625, 8.05, 9.8458, 7.925, 7.925, 7.775, 8.85, 7.7333, 19.9667, 19.9667, 15.85, 15.85, 9.5, 7.2292, 14.1083, 7.8542, 7.8542, 14.1083, 7.55, 7.25, 6.8583, 18.7875, 7.75, 6.975, 56.4958, 6.75, 7.925, 7.925, 8.9625, 7.8958, 7.775, 7.75, 12.2875, 12.2875, 6.45, 22.525, 7.925, 7.75, 8.05, 7.65, 7.8875, 7.2292, 7.8958, 7.925, 7.925, 7.8958, 7.8958, 7.7958, 7.05, 7.8542, 7.8542, 7.0542, 7.75, 8.1125, 6.4958, 7.775, 7.7958, 8.6542, 7.775, 7.8542, 11.1333, 11.1333, 0.0, 7.775, 0.0, 11.1333, 23.45, 23.45, 23.45, 23.45, 7.8958, 7.8542, 7.8542, 9.825, 9.825, 7.925, 7.125, 8.4333, 7.8958, 7.7958, 7.8542, 7.5208, 13.4167, 13.4167, 7.2292, 7.2292, 7.75, 7.25, 7.75, 7.75, 7.8292, 8.05, 7.75, 14.4542, 14.4542, 7.75, 7.75, 7.7375, 8.6625, 8.6625, 22.025, 22.025, 22.025, 12.1833, 7.8542, 12.1833, 7.8958, 7.2292, 7.225, 9.5875, 7.8958, 56.4958, 56.4958, 7.25, 7.75, 56.4958, 9.4833, 7.775, 7.775, 7.225, 25.4667, 25.4667, 25.4667, 25.4667, 25.4667, 7.925, 6.4375, 15.5, 15.5, 0.0, 24.15, 9.5, 7.775, 7.75, 15.55, 15.55, 7.925, 7.8792, 56.4958, 7.55, 16.1, 16.1, 7.8792, 7.25, 8.6625, 7.0542, 7.8542, 7.5792, 7.8958, 7.55, 7.75, 7.1417, 7.125, 7.8792, 7.75, 8.05, 7.925, 7.2292, 7.75, 7.7375, 7.2292, 7.8958, 7.8958, 7.225, 7.8958, 7.75, 7.75, 23.25, 23.25, 23.25, 7.7875, 15.5, 7.8792, 8.0292, 7.75, 7.75, 16.1, 16.1, 7.75, 8.05, 8.05, 8.05, 7.75, 7.775, 8.05, 7.8958, 7.8958, 7.8958, 7.8958, 7.8792, 7.65, 12.475, 12.475, 8.05, 24.15, 24.15, 8.4583, 8.05, 7.75, 7.775, 15.2458, 15.2458, 15.2458, 7.2292, 8.05, 7.7333, 7.75, 8.05, 15.5, 15.5, 15.5, 7.75, 7.8958, 7.225, 15.7417, 15.7417, 15.7417, 8.05, 7.8958, 7.2292, 7.75, 7.8958, 11.2417, 11.2417, 7.925, 8.05, 7.775, 7.8542, 7.8542, 7.125, 7.925, 7.8, 7.2292, 7.75, 6.2375, 15.5, 7.8292, 15.5, 7.7333, 7.75, 7.75, 9.225, 7.75, 7.75, 7.8792, 7.775, 7.75, 7.8292, 3.1708, 22.525, 8.4042, 7.3125, 7.8542, 7.8542, 7.775, 9.225, 8.6625, 8.6625, 8.6625, 9.2167, 8.6833, 7.6292, 21.075, 21.075, 21.075, 21.075, 21.075, 39.6875, 39.6875, 39.6875, 39.6875, 39.6875, 39.6875, 8.6625, 14.5, 8.7125, 7.8958, 13.775, 13.775, 13.775, 7.0, 7.775, 8.05, 7.925, 7.925, 7.25, 7.775, 22.3583, 22.3583, 22.3583, 8.1375, 8.05, 7.8958, 7.8958, 7.8958, 7.775, 7.775, 8.05, 7.8958, 8.6625, 8.6625, 7.8958, 8.1125, 7.2292, 7.25, 7.8958, 8.05, 29.125, 29.125, 29.125, 29.125, 29.125, 29.125, 39.6875, 7.125, 7.7208, 14.5, 14.5, 14.5, 14.5, 8.05, 7.775, 20.2125, 20.2125, 20.2125, 8.05, 8.05, 8.05, 7.75, 24.15, 7.2292, 7.225, 7.225, 7.7292, 7.575, 7.25, 69.55, 69.55, 69.55, 69.55, 69.55, 69.55, 69.55, 69.55, 69.55, 69.55, 69.55, 9.325, 7.65, 7.925, 21.6792, 21.6792, 21.6792, 16.7, 16.7, 16.7, 9.5, 8.05, 8.05, 7.725, 7.8958, 7.75, 9.5, 15.1, 7.7792, 8.05, 8.05, 7.2292, 8.05, 7.8958, 7.925, 7.4958, 27.9, 27.9, 27.9, 27.9, 27.9, 27.9, 7.8958, 8.05, 8.6625, 7.75, 7.7333, 7.65, 8.05, 8.05, 8.05, 7.8958, 8.6625, 7.55, 8.05, null, 7.8958, 9.8375, 7.925, 8.6625, 10.4625, 10.4625, 8.05, 7.925, 7.05, 7.775, 9.225, 7.7958, 7.7958, 8.05, 8.5167, 6.4375, 6.4375, 7.225, 8.5167, 8.05, 16.1, 16.1, 7.925, 7.75, 7.8958, 8.05, 8.05, 7.2292, 0.0, 7.2292, 15.2458, 15.2458, 15.2458, 7.8958, 9.8417, 9.5875, 14.5, 14.5, 14.5, 24.15, 24.15, 24.15, 9.5, 9.5, 9.5, 9.5, 9.0, 18.0, 18.0, 18.0, 18.0, 7.225, 7.8542, 7.8542, 7.8958, 9.0, 8.05, 7.55, 8.05, 9.5, 7.2292, 7.75, 6.4958, 6.4958, 7.0, 8.7125, 7.55, 8.05, 16.1, 7.25, 8.6625, 7.25, 9.5, 14.4542, 14.4542, 7.225, 7.225, 14.4583, 14.4542, 14.4542, 7.225, 7.225, 7.875, null]}],\n",
       "                        {\"barmode\": \"overlay\", \"legend\": {\"bgcolor\": \"#F5F6F9\", \"font\": {\"color\": \"#4D5663\"}}, \"paper_bgcolor\": \"#F5F6F9\", \"plot_bgcolor\": \"#F5F6F9\", \"template\": {\"data\": {\"bar\": [{\"error_x\": {\"color\": \"#2a3f5f\"}, \"error_y\": {\"color\": \"#2a3f5f\"}, \"marker\": {\"line\": {\"color\": \"#E5ECF6\", \"width\": 0.5}}, \"type\": \"bar\"}], \"barpolar\": [{\"marker\": {\"line\": {\"color\": \"#E5ECF6\", \"width\": 0.5}}, \"type\": \"barpolar\"}], \"carpet\": [{\"aaxis\": {\"endlinecolor\": \"#2a3f5f\", \"gridcolor\": \"white\", \"linecolor\": \"white\", \"minorgridcolor\": \"white\", \"startlinecolor\": \"#2a3f5f\"}, \"baxis\": {\"endlinecolor\": \"#2a3f5f\", \"gridcolor\": \"white\", \"linecolor\": \"white\", \"minorgridcolor\": \"white\", \"startlinecolor\": \"#2a3f5f\"}, \"type\": \"carpet\"}], \"choropleth\": [{\"colorbar\": {\"outlinewidth\": 0, \"ticks\": \"\"}, \"type\": \"choropleth\"}], \"contour\": [{\"colorbar\": {\"outlinewidth\": 0, \"ticks\": \"\"}, \"colorscale\": [[0.0, \"#0d0887\"], [0.1111111111111111, \"#46039f\"], [0.2222222222222222, \"#7201a8\"], [0.3333333333333333, \"#9c179e\"], [0.4444444444444444, \"#bd3786\"], [0.5555555555555556, \"#d8576b\"], [0.6666666666666666, \"#ed7953\"], [0.7777777777777778, \"#fb9f3a\"], [0.8888888888888888, \"#fdca26\"], [1.0, \"#f0f921\"]], \"type\": \"contour\"}], \"contourcarpet\": [{\"colorbar\": {\"outlinewidth\": 0, \"ticks\": \"\"}, \"type\": \"contourcarpet\"}], \"heatmap\": [{\"colorbar\": {\"outlinewidth\": 0, \"ticks\": \"\"}, \"colorscale\": [[0.0, \"#0d0887\"], [0.1111111111111111, \"#46039f\"], [0.2222222222222222, \"#7201a8\"], [0.3333333333333333, \"#9c179e\"], [0.4444444444444444, \"#bd3786\"], [0.5555555555555556, \"#d8576b\"], [0.6666666666666666, \"#ed7953\"], [0.7777777777777778, \"#fb9f3a\"], [0.8888888888888888, \"#fdca26\"], [1.0, \"#f0f921\"]], \"type\": \"heatmap\"}], \"heatmapgl\": [{\"colorbar\": {\"outlinewidth\": 0, \"ticks\": \"\"}, \"colorscale\": [[0.0, \"#0d0887\"], [0.1111111111111111, \"#46039f\"], [0.2222222222222222, \"#7201a8\"], [0.3333333333333333, \"#9c179e\"], [0.4444444444444444, \"#bd3786\"], [0.5555555555555556, \"#d8576b\"], [0.6666666666666666, \"#ed7953\"], [0.7777777777777778, \"#fb9f3a\"], [0.8888888888888888, \"#fdca26\"], [1.0, \"#f0f921\"]], \"type\": \"heatmapgl\"}], \"histogram\": [{\"marker\": {\"colorbar\": {\"outlinewidth\": 0, \"ticks\": \"\"}}, \"type\": \"histogram\"}], \"histogram2d\": [{\"colorbar\": {\"outlinewidth\": 0, \"ticks\": \"\"}, \"colorscale\": [[0.0, \"#0d0887\"], [0.1111111111111111, \"#46039f\"], [0.2222222222222222, \"#7201a8\"], [0.3333333333333333, \"#9c179e\"], [0.4444444444444444, \"#bd3786\"], [0.5555555555555556, \"#d8576b\"], [0.6666666666666666, \"#ed7953\"], [0.7777777777777778, \"#fb9f3a\"], [0.8888888888888888, \"#fdca26\"], [1.0, \"#f0f921\"]], \"type\": \"histogram2d\"}], \"histogram2dcontour\": [{\"colorbar\": {\"outlinewidth\": 0, \"ticks\": \"\"}, \"colorscale\": [[0.0, \"#0d0887\"], [0.1111111111111111, \"#46039f\"], [0.2222222222222222, \"#7201a8\"], [0.3333333333333333, \"#9c179e\"], [0.4444444444444444, \"#bd3786\"], [0.5555555555555556, \"#d8576b\"], [0.6666666666666666, \"#ed7953\"], [0.7777777777777778, \"#fb9f3a\"], [0.8888888888888888, \"#fdca26\"], [1.0, \"#f0f921\"]], \"type\": \"histogram2dcontour\"}], \"mesh3d\": [{\"colorbar\": {\"outlinewidth\": 0, \"ticks\": \"\"}, \"type\": \"mesh3d\"}], \"parcoords\": [{\"line\": {\"colorbar\": {\"outlinewidth\": 0, \"ticks\": \"\"}}, \"type\": \"parcoords\"}], \"pie\": [{\"automargin\": true, \"type\": \"pie\"}], \"scatter\": [{\"marker\": {\"colorbar\": {\"outlinewidth\": 0, \"ticks\": \"\"}}, \"type\": \"scatter\"}], \"scatter3d\": [{\"line\": {\"colorbar\": {\"outlinewidth\": 0, \"ticks\": \"\"}}, \"marker\": {\"colorbar\": {\"outlinewidth\": 0, \"ticks\": \"\"}}, \"type\": \"scatter3d\"}], \"scattercarpet\": [{\"marker\": {\"colorbar\": {\"outlinewidth\": 0, \"ticks\": \"\"}}, \"type\": \"scattercarpet\"}], \"scattergeo\": [{\"marker\": {\"colorbar\": {\"outlinewidth\": 0, \"ticks\": \"\"}}, \"type\": \"scattergeo\"}], \"scattergl\": [{\"marker\": {\"colorbar\": {\"outlinewidth\": 0, \"ticks\": \"\"}}, \"type\": \"scattergl\"}], \"scattermapbox\": [{\"marker\": {\"colorbar\": {\"outlinewidth\": 0, \"ticks\": \"\"}}, \"type\": \"scattermapbox\"}], \"scatterpolar\": [{\"marker\": {\"colorbar\": {\"outlinewidth\": 0, \"ticks\": \"\"}}, \"type\": \"scatterpolar\"}], \"scatterpolargl\": [{\"marker\": {\"colorbar\": {\"outlinewidth\": 0, \"ticks\": \"\"}}, \"type\": \"scatterpolargl\"}], \"scatterternary\": [{\"marker\": {\"colorbar\": {\"outlinewidth\": 0, \"ticks\": \"\"}}, \"type\": \"scatterternary\"}], \"surface\": [{\"colorbar\": {\"outlinewidth\": 0, \"ticks\": \"\"}, \"colorscale\": [[0.0, \"#0d0887\"], [0.1111111111111111, \"#46039f\"], [0.2222222222222222, \"#7201a8\"], [0.3333333333333333, \"#9c179e\"], [0.4444444444444444, \"#bd3786\"], [0.5555555555555556, \"#d8576b\"], [0.6666666666666666, \"#ed7953\"], [0.7777777777777778, \"#fb9f3a\"], [0.8888888888888888, \"#fdca26\"], [1.0, \"#f0f921\"]], \"type\": \"surface\"}], \"table\": [{\"cells\": {\"fill\": {\"color\": \"#EBF0F8\"}, \"line\": {\"color\": \"white\"}}, \"header\": {\"fill\": {\"color\": \"#C8D4E3\"}, \"line\": {\"color\": \"white\"}}, \"type\": \"table\"}]}, \"layout\": {\"annotationdefaults\": {\"arrowcolor\": \"#2a3f5f\", \"arrowhead\": 0, \"arrowwidth\": 1}, \"coloraxis\": {\"colorbar\": {\"outlinewidth\": 0, \"ticks\": \"\"}}, \"colorscale\": {\"diverging\": [[0, \"#8e0152\"], [0.1, \"#c51b7d\"], [0.2, \"#de77ae\"], [0.3, \"#f1b6da\"], [0.4, \"#fde0ef\"], [0.5, \"#f7f7f7\"], [0.6, \"#e6f5d0\"], [0.7, \"#b8e186\"], [0.8, \"#7fbc41\"], [0.9, \"#4d9221\"], [1, \"#276419\"]], \"sequential\": [[0.0, \"#0d0887\"], [0.1111111111111111, \"#46039f\"], [0.2222222222222222, \"#7201a8\"], [0.3333333333333333, \"#9c179e\"], [0.4444444444444444, \"#bd3786\"], [0.5555555555555556, \"#d8576b\"], [0.6666666666666666, \"#ed7953\"], [0.7777777777777778, \"#fb9f3a\"], [0.8888888888888888, \"#fdca26\"], [1.0, \"#f0f921\"]], \"sequentialminus\": [[0.0, \"#0d0887\"], [0.1111111111111111, \"#46039f\"], [0.2222222222222222, \"#7201a8\"], [0.3333333333333333, \"#9c179e\"], [0.4444444444444444, \"#bd3786\"], [0.5555555555555556, \"#d8576b\"], [0.6666666666666666, \"#ed7953\"], [0.7777777777777778, \"#fb9f3a\"], [0.8888888888888888, \"#fdca26\"], [1.0, \"#f0f921\"]]}, \"colorway\": [\"#636efa\", \"#EF553B\", \"#00cc96\", \"#ab63fa\", \"#FFA15A\", \"#19d3f3\", \"#FF6692\", \"#B6E880\", \"#FF97FF\", \"#FECB52\"], \"font\": {\"color\": \"#2a3f5f\"}, \"geo\": {\"bgcolor\": \"white\", \"lakecolor\": \"white\", \"landcolor\": \"#E5ECF6\", \"showlakes\": true, \"showland\": true, \"subunitcolor\": \"white\"}, \"hoverlabel\": {\"align\": \"left\"}, \"hovermode\": \"closest\", \"mapbox\": {\"style\": \"light\"}, \"paper_bgcolor\": \"white\", \"plot_bgcolor\": \"#E5ECF6\", \"polar\": {\"angularaxis\": {\"gridcolor\": \"white\", \"linecolor\": \"white\", \"ticks\": \"\"}, \"bgcolor\": \"#E5ECF6\", \"radialaxis\": {\"gridcolor\": \"white\", \"linecolor\": \"white\", \"ticks\": \"\"}}, \"scene\": {\"xaxis\": {\"backgroundcolor\": \"#E5ECF6\", \"gridcolor\": \"white\", \"gridwidth\": 2, \"linecolor\": \"white\", \"showbackground\": true, \"ticks\": \"\", \"zerolinecolor\": \"white\"}, \"yaxis\": {\"backgroundcolor\": \"#E5ECF6\", \"gridcolor\": \"white\", \"gridwidth\": 2, \"linecolor\": \"white\", \"showbackground\": true, \"ticks\": \"\", \"zerolinecolor\": \"white\"}, \"zaxis\": {\"backgroundcolor\": \"#E5ECF6\", \"gridcolor\": \"white\", \"gridwidth\": 2, \"linecolor\": \"white\", \"showbackground\": true, \"ticks\": \"\", \"zerolinecolor\": \"white\"}}, \"shapedefaults\": {\"line\": {\"color\": \"#2a3f5f\"}}, \"ternary\": {\"aaxis\": {\"gridcolor\": \"white\", \"linecolor\": \"white\", \"ticks\": \"\"}, \"baxis\": {\"gridcolor\": \"white\", \"linecolor\": \"white\", \"ticks\": \"\"}, \"bgcolor\": \"#E5ECF6\", \"caxis\": {\"gridcolor\": \"white\", \"linecolor\": \"white\", \"ticks\": \"\"}}, \"title\": {\"x\": 0.05}, \"xaxis\": {\"automargin\": true, \"gridcolor\": \"white\", \"linecolor\": \"white\", \"ticks\": \"\", \"title\": {\"standoff\": 15}, \"zerolinecolor\": \"white\", \"zerolinewidth\": 2}, \"yaxis\": {\"automargin\": true, \"gridcolor\": \"white\", \"linecolor\": \"white\", \"ticks\": \"\", \"title\": {\"standoff\": 15}, \"zerolinecolor\": \"white\", \"zerolinewidth\": 2}}}, \"title\": {\"font\": {\"color\": \"#4D5663\"}}, \"xaxis\": {\"gridcolor\": \"#E1E5ED\", \"showgrid\": true, \"tickfont\": {\"color\": \"#4D5663\"}, \"title\": {\"font\": {\"color\": \"#4D5663\"}, \"text\": \"\"}, \"zerolinecolor\": \"#E1E5ED\"}, \"yaxis\": {\"gridcolor\": \"#E1E5ED\", \"showgrid\": true, \"tickfont\": {\"color\": \"#4D5663\"}, \"title\": {\"font\": {\"color\": \"#4D5663\"}, \"text\": \"\"}, \"zerolinecolor\": \"#E1E5ED\"}},\n",
       "                        {\"showLink\": true, \"linkText\": \"Export to plot.ly\", \"plotlyServerURL\": \"https://plot.ly\", \"responsive\": true}\n",
       "                    ).then(function(){\n",
       "                            \n",
       "var gd = document.getElementById('3a496e8c-75dc-441e-b652-51e2a4c05dfa');\n",
       "var x = new MutationObserver(function (mutations, observer) {{\n",
       "        var display = window.getComputedStyle(gd).display;\n",
       "        if (!display || display === 'none') {{\n",
       "            console.log([gd, 'removed!']);\n",
       "            Plotly.purge(gd);\n",
       "            observer.disconnect();\n",
       "        }}\n",
       "}});\n",
       "\n",
       "// Listen for the removal of the full notebook cells\n",
       "var notebookContainer = gd.closest('#notebook-container');\n",
       "if (notebookContainer) {{\n",
       "    x.observe(notebookContainer, {childList: true});\n",
       "}}\n",
       "\n",
       "// Listen for the clearing of the current output cell\n",
       "var outputEl = gd.closest('.output');\n",
       "if (outputEl) {{\n",
       "    x.observe(outputEl, {childList: true});\n",
       "}}\n",
       "\n",
       "                        })\n",
       "                };\n",
       "                });\n",
       "            </script>\n",
       "        </div>"
      ]
     },
     "metadata": {},
     "output_type": "display_data"
    }
   ],
   "source": [
    "import cufflinks as cf\n",
    "cf.go_offline()\n",
    "df['fare'].iplot(kind='hist', bins=30) #cheap tickets are sold the most as we had seen most passangers were from third class"
   ]
  },
  {
   "cell_type": "markdown",
   "metadata": {},
   "source": [
    "### Cleaning Data :"
   ]
  },
  {
   "cell_type": "code",
   "execution_count": 76,
   "metadata": {},
   "outputs": [
    {
     "data": {
      "text/plain": [
       "<matplotlib.axes._subplots.AxesSubplot at 0x243efb60668>"
      ]
     },
     "execution_count": 76,
     "metadata": {},
     "output_type": "execute_result"
    },
    {
     "data": {
      "image/png": "[encoded data removed]",
      "text/plain": [
       "<Figure size 792x576 with 1 Axes>"
      ]
     },
     "metadata": {},
     "output_type": "display_data"
    }
   ],
   "source": [
    "#We can see the wealthier passangers from 1st and 2nd class tend to be older from the passangers in 3rd class \n",
    "sns.set_style('whitegrid')\n",
    "plt.figure(figsize=(11,8))\n",
    "\n",
    "sns.boxplot(x='pclass', y='age', data=df)"
   ]
  },
  {
   "cell_type": "markdown",
   "metadata": {},
   "source": [
    "## We can use these average age values depending upon the classes to fill on the missing data!"
   ]
  },
  {
   "cell_type": "code",
   "execution_count": 77,
   "metadata": {},
   "outputs": [],
   "source": [
    "def fill_age(columns):\n",
    "    Age = columns[0] #retrieving age value since it was first column when calling\n",
    "    pclass = columns[1] #retrieving pclass value since it was second column when calling\n",
    "    \n",
    "    if pd.isnull(Age):\n",
    "        #Fill the null values with mean ages based on their classes\n",
    "        if pclass == 1:\n",
    "            return 38 \n",
    "        elif pclass == 2:\n",
    "            return 29\n",
    "        elif pclass == 3:\n",
    "            return 24 \n",
    "    else: #if age is not null then dont change it\n",
    "        return Age"
   ]
  },
  {
   "cell_type": "code",
   "execution_count": 78,
   "metadata": {},
   "outputs": [],
   "source": [
    "df['age'] = df[['age','pclass']].apply(fill_age, axis=1) #filling null values with mean ages"
   ]
  },
  {
   "cell_type": "code",
   "execution_count": 79,
   "metadata": {},
   "outputs": [
    {
     "data": {
      "text/plain": [
       "<matplotlib.axes._subplots.AxesSubplot at 0x243ec5d6d68>"
      ]
     },
     "execution_count": 79,
     "metadata": {},
     "output_type": "execute_result"
    },
    {
     "data": {
      "image/png": "[encoded data removed]",
      "text/plain": [
       "<Figure size 432x288 with 1 Axes>"
      ]
     },
     "metadata": {},
     "output_type": "display_data"
    }
   ],
   "source": [
    "#We have filled all the null values for the age column\n",
    "sns.heatmap(df.isnull(), yticklabels=False, cbar=False, cmap='viridis')"
   ]
  },
  {
   "cell_type": "code",
   "execution_count": 80,
   "metadata": {},
   "outputs": [
    {
     "name": "stdout",
     "output_type": "stream",
     "text": [
      "<class 'pandas.core.frame.DataFrame'>\n",
      "Int64Index: 809 entries, 2 to 1308\n",
      "Data columns (total 14 columns):\n",
      "pclass       809 non-null float64\n",
      "survived     809 non-null float64\n",
      "name         809 non-null object\n",
      "sex          809 non-null object\n",
      "age          809 non-null float64\n",
      "sibsp        809 non-null float64\n",
      "parch        809 non-null float64\n",
      "ticket       809 non-null object\n",
      "fare         808 non-null float64\n",
      "cabin        102 non-null object\n",
      "embarked     809 non-null object\n",
      "boat         9 non-null object\n",
      "body         121 non-null float64\n",
      "home.dest    398 non-null object\n",
      "dtypes: float64(7), object(7)\n",
      "memory usage: 94.8+ KB\n"
     ]
    },
    {
     "name": "stderr",
     "output_type": "stream",
     "text": [
      "C:\\Users\\ADMIN\\Anaconda3\\lib\\site-packages\\pandas\\core\\ops.py:1649: FutureWarning:\n",
      "\n",
      "elementwise comparison failed; returning scalar instead, but in the future will perform elementwise comparison\n",
      "\n"
     ]
    }
   ],
   "source": [
    "#There are people who dint survived and their bodies were also not found so this information is hugely missing and hence shall be dropped.\n",
    "df[(df['survived']==0.0) & (df['body'] != 'NaN')].info()"
   ]
  },
  {
   "cell_type": "code",
   "execution_count": 81,
   "metadata": {},
   "outputs": [
    {
     "data": {
      "text/html": [
       "<div>\n",
       "<style scoped>\n",
       "    .dataframe tbody tr th:only-of-type {\n",
       "        vertical-align: middle;\n",
       "    }\n",
       "\n",
       "    .dataframe tbody tr th {\n",
       "        vertical-align: top;\n",
       "    }\n",
       "\n",
       "    .dataframe thead th {\n",
       "        text-align: right;\n",
       "    }\n",
       "</style>\n",
       "<table border=\"1\" class=\"dataframe\">\n",
       "  <thead>\n",
       "    <tr style=\"text-align: right;\">\n",
       "      <th></th>\n",
       "      <th>survived</th>\n",
       "      <th>boat</th>\n",
       "    </tr>\n",
       "  </thead>\n",
       "  <tbody>\n",
       "    <tr>\n",
       "      <th>1290</th>\n",
       "      <td>1.0</td>\n",
       "      <td>NaN</td>\n",
       "    </tr>\n",
       "  </tbody>\n",
       "</table>\n",
       "</div>"
      ],
      "text/plain": [
       "      survived boat\n",
       "1290       1.0  NaN"
      ]
     },
     "execution_count": 81,
     "metadata": {},
     "output_type": "execute_result"
    }
   ],
   "source": [
    "# Value at index 1290 and many other values have cases where the person survived but the boat number was not noted. There can be no useful information brought from this column so we will drop it.\n",
    "df[['survived','boat']].iloc[[1290]]"
   ]
  },
  {
   "cell_type": "code",
   "execution_count": 82,
   "metadata": {},
   "outputs": [],
   "source": [
    "#Dropping the not useful columns\n",
    "df.drop('body',axis=1, inplace=True)\n",
    "df.drop('boat', axis=1, inplace=True)\n",
    "df.drop('cabin', axis=1, inplace=True)\n",
    "df.drop('home.dest', axis=1, inplace = True)"
   ]
  },
  {
   "cell_type": "code",
   "execution_count": 83,
   "metadata": {},
   "outputs": [
    {
     "data": {
      "text/plain": [
       "<matplotlib.axes._subplots.AxesSubplot at 0x243ee03d048>"
      ]
     },
     "execution_count": 83,
     "metadata": {},
     "output_type": "execute_result"
    },
    {
     "data": {
      "image/png": "[encoded data removed]",
      "text/plain": [
       "<Figure size 432x288 with 1 Axes>"
      ]
     },
     "metadata": {},
     "output_type": "display_data"
    }
   ],
   "source": [
    "#All the null values have been filled out\n",
    "sns.heatmap(df.isnull(), yticklabels=False, cbar=False, cmap='viridis')"
   ]
  },
  {
   "cell_type": "markdown",
   "metadata": {},
   "source": [
    "### Creating Dummies:"
   ]
  },
  {
   "cell_type": "code",
   "execution_count": 84,
   "metadata": {},
   "outputs": [
    {
     "data": {
      "text/html": [
       "<div>\n",
       "<style scoped>\n",
       "    .dataframe tbody tr th:only-of-type {\n",
       "        vertical-align: middle;\n",
       "    }\n",
       "\n",
       "    .dataframe tbody tr th {\n",
       "        vertical-align: top;\n",
       "    }\n",
       "\n",
       "    .dataframe thead th {\n",
       "        text-align: right;\n",
       "    }\n",
       "</style>\n",
       "<table border=\"1\" class=\"dataframe\">\n",
       "  <thead>\n",
       "    <tr style=\"text-align: right;\">\n",
       "      <th></th>\n",
       "      <th>male</th>\n",
       "    </tr>\n",
       "  </thead>\n",
       "  <tbody>\n",
       "    <tr>\n",
       "      <th>0</th>\n",
       "      <td>0</td>\n",
       "    </tr>\n",
       "    <tr>\n",
       "      <th>1</th>\n",
       "      <td>1</td>\n",
       "    </tr>\n",
       "    <tr>\n",
       "      <th>2</th>\n",
       "      <td>0</td>\n",
       "    </tr>\n",
       "    <tr>\n",
       "      <th>3</th>\n",
       "      <td>1</td>\n",
       "    </tr>\n",
       "    <tr>\n",
       "      <th>4</th>\n",
       "      <td>0</td>\n",
       "    </tr>\n",
       "  </tbody>\n",
       "</table>\n",
       "</div>"
      ],
      "text/plain": [
       "   male\n",
       "0     0\n",
       "1     1\n",
       "2     0\n",
       "3     1\n",
       "4     0"
      ]
     },
     "execution_count": 84,
     "metadata": {},
     "output_type": "execute_result"
    }
   ],
   "source": [
    "#We drop the first column because then these two columns will become perfect predictors of each other\n",
    "sex = pd.get_dummies(df['sex'], drop_first=True)\n",
    "sex.head()"
   ]
  },
  {
   "cell_type": "code",
   "execution_count": 85,
   "metadata": {},
   "outputs": [
    {
     "data": {
      "text/html": [
       "<div>\n",
       "<style scoped>\n",
       "    .dataframe tbody tr th:only-of-type {\n",
       "        vertical-align: middle;\n",
       "    }\n",
       "\n",
       "    .dataframe tbody tr th {\n",
       "        vertical-align: top;\n",
       "    }\n",
       "\n",
       "    .dataframe thead th {\n",
       "        text-align: right;\n",
       "    }\n",
       "</style>\n",
       "<table border=\"1\" class=\"dataframe\">\n",
       "  <thead>\n",
       "    <tr style=\"text-align: right;\">\n",
       "      <th></th>\n",
       "      <th>Q</th>\n",
       "      <th>S</th>\n",
       "    </tr>\n",
       "  </thead>\n",
       "  <tbody>\n",
       "    <tr>\n",
       "      <th>0</th>\n",
       "      <td>0</td>\n",
       "      <td>1</td>\n",
       "    </tr>\n",
       "    <tr>\n",
       "      <th>1</th>\n",
       "      <td>0</td>\n",
       "      <td>1</td>\n",
       "    </tr>\n",
       "    <tr>\n",
       "      <th>2</th>\n",
       "      <td>0</td>\n",
       "      <td>1</td>\n",
       "    </tr>\n",
       "    <tr>\n",
       "      <th>3</th>\n",
       "      <td>0</td>\n",
       "      <td>1</td>\n",
       "    </tr>\n",
       "    <tr>\n",
       "      <th>4</th>\n",
       "      <td>0</td>\n",
       "      <td>1</td>\n",
       "    </tr>\n",
       "  </tbody>\n",
       "</table>\n",
       "</div>"
      ],
      "text/plain": [
       "   Q  S\n",
       "0  0  1\n",
       "1  0  1\n",
       "2  0  1\n",
       "3  0  1\n",
       "4  0  1"
      ]
     },
     "execution_count": 85,
     "metadata": {},
     "output_type": "execute_result"
    }
   ],
   "source": [
    "# C column is dropped and its value can be obtained when both are 0\n",
    "embark = pd.get_dummies(df['embarked'],drop_first=True)\n",
    "embark.head()"
   ]
  },
  {
   "cell_type": "code",
   "execution_count": 86,
   "metadata": {},
   "outputs": [
    {
     "data": {
      "text/html": [
       "<div>\n",
       "<style scoped>\n",
       "    .dataframe tbody tr th:only-of-type {\n",
       "        vertical-align: middle;\n",
       "    }\n",
       "\n",
       "    .dataframe tbody tr th {\n",
       "        vertical-align: top;\n",
       "    }\n",
       "\n",
       "    .dataframe thead th {\n",
       "        text-align: right;\n",
       "    }\n",
       "</style>\n",
       "<table border=\"1\" class=\"dataframe\">\n",
       "  <thead>\n",
       "    <tr style=\"text-align: right;\">\n",
       "      <th></th>\n",
       "      <th>2.0</th>\n",
       "      <th>3.0</th>\n",
       "    </tr>\n",
       "  </thead>\n",
       "  <tbody>\n",
       "    <tr>\n",
       "      <th>0</th>\n",
       "      <td>0</td>\n",
       "      <td>0</td>\n",
       "    </tr>\n",
       "    <tr>\n",
       "      <th>1</th>\n",
       "      <td>0</td>\n",
       "      <td>0</td>\n",
       "    </tr>\n",
       "    <tr>\n",
       "      <th>2</th>\n",
       "      <td>0</td>\n",
       "      <td>0</td>\n",
       "    </tr>\n",
       "    <tr>\n",
       "      <th>3</th>\n",
       "      <td>0</td>\n",
       "      <td>0</td>\n",
       "    </tr>\n",
       "    <tr>\n",
       "      <th>4</th>\n",
       "      <td>0</td>\n",
       "      <td>0</td>\n",
       "    </tr>\n",
       "  </tbody>\n",
       "</table>\n",
       "</div>"
      ],
      "text/plain": [
       "   2.0  3.0\n",
       "0    0    0\n",
       "1    0    0\n",
       "2    0    0\n",
       "3    0    0\n",
       "4    0    0"
      ]
     },
     "execution_count": 86,
     "metadata": {},
     "output_type": "execute_result"
    }
   ],
   "source": [
    "pclass = pd.get_dummies(df['pclass'],drop_first=True)\n",
    "pclass.head()"
   ]
  },
  {
   "cell_type": "code",
   "execution_count": 87,
   "metadata": {},
   "outputs": [],
   "source": [
    "#Adding these columns to the dataframe\n",
    "df = pd.concat([df,sex,embark,pclass],axis=1)"
   ]
  },
  {
   "cell_type": "code",
   "execution_count": 88,
   "metadata": {},
   "outputs": [
    {
     "data": {
      "text/html": [
       "<div>\n",
       "<style scoped>\n",
       "    .dataframe tbody tr th:only-of-type {\n",
       "        vertical-align: middle;\n",
       "    }\n",
       "\n",
       "    .dataframe tbody tr th {\n",
       "        vertical-align: top;\n",
       "    }\n",
       "\n",
       "    .dataframe thead th {\n",
       "        text-align: right;\n",
       "    }\n",
       "</style>\n",
       "<table border=\"1\" class=\"dataframe\">\n",
       "  <thead>\n",
       "    <tr style=\"text-align: right;\">\n",
       "      <th></th>\n",
       "      <th>pclass</th>\n",
       "      <th>survived</th>\n",
       "      <th>name</th>\n",
       "      <th>sex</th>\n",
       "      <th>age</th>\n",
       "      <th>sibsp</th>\n",
       "      <th>parch</th>\n",
       "      <th>ticket</th>\n",
       "      <th>fare</th>\n",
       "      <th>embarked</th>\n",
       "      <th>male</th>\n",
       "      <th>Q</th>\n",
       "      <th>S</th>\n",
       "      <th>2.0</th>\n",
       "      <th>3.0</th>\n",
       "    </tr>\n",
       "  </thead>\n",
       "  <tbody>\n",
       "    <tr>\n",
       "      <th>0</th>\n",
       "      <td>1.0</td>\n",
       "      <td>1.0</td>\n",
       "      <td>Allen, Miss. Elisabeth Walton</td>\n",
       "      <td>female</td>\n",
       "      <td>29.0000</td>\n",
       "      <td>0.0</td>\n",
       "      <td>0.0</td>\n",
       "      <td>24160</td>\n",
       "      <td>211.3375</td>\n",
       "      <td>S</td>\n",
       "      <td>0</td>\n",
       "      <td>0</td>\n",
       "      <td>1</td>\n",
       "      <td>0</td>\n",
       "      <td>0</td>\n",
       "    </tr>\n",
       "    <tr>\n",
       "      <th>1</th>\n",
       "      <td>1.0</td>\n",
       "      <td>1.0</td>\n",
       "      <td>Allison, Master. Hudson Trevor</td>\n",
       "      <td>male</td>\n",
       "      <td>0.9167</td>\n",
       "      <td>1.0</td>\n",
       "      <td>2.0</td>\n",
       "      <td>113781</td>\n",
       "      <td>151.5500</td>\n",
       "      <td>S</td>\n",
       "      <td>1</td>\n",
       "      <td>0</td>\n",
       "      <td>1</td>\n",
       "      <td>0</td>\n",
       "      <td>0</td>\n",
       "    </tr>\n",
       "    <tr>\n",
       "      <th>2</th>\n",
       "      <td>1.0</td>\n",
       "      <td>0.0</td>\n",
       "      <td>Allison, Miss. Helen Loraine</td>\n",
       "      <td>female</td>\n",
       "      <td>2.0000</td>\n",
       "      <td>1.0</td>\n",
       "      <td>2.0</td>\n",
       "      <td>113781</td>\n",
       "      <td>151.5500</td>\n",
       "      <td>S</td>\n",
       "      <td>0</td>\n",
       "      <td>0</td>\n",
       "      <td>1</td>\n",
       "      <td>0</td>\n",
       "      <td>0</td>\n",
       "    </tr>\n",
       "    <tr>\n",
       "      <th>3</th>\n",
       "      <td>1.0</td>\n",
       "      <td>0.0</td>\n",
       "      <td>Allison, Mr. Hudson Joshua Creighton</td>\n",
       "      <td>male</td>\n",
       "      <td>30.0000</td>\n",
       "      <td>1.0</td>\n",
       "      <td>2.0</td>\n",
       "      <td>113781</td>\n",
       "      <td>151.5500</td>\n",
       "      <td>S</td>\n",
       "      <td>1</td>\n",
       "      <td>0</td>\n",
       "      <td>1</td>\n",
       "      <td>0</td>\n",
       "      <td>0</td>\n",
       "    </tr>\n",
       "    <tr>\n",
       "      <th>4</th>\n",
       "      <td>1.0</td>\n",
       "      <td>0.0</td>\n",
       "      <td>Allison, Mrs. Hudson J C (Bessie Waldo Daniels)</td>\n",
       "      <td>female</td>\n",
       "      <td>25.0000</td>\n",
       "      <td>1.0</td>\n",
       "      <td>2.0</td>\n",
       "      <td>113781</td>\n",
       "      <td>151.5500</td>\n",
       "      <td>S</td>\n",
       "      <td>0</td>\n",
       "      <td>0</td>\n",
       "      <td>1</td>\n",
       "      <td>0</td>\n",
       "      <td>0</td>\n",
       "    </tr>\n",
       "  </tbody>\n",
       "</table>\n",
       "</div>"
      ],
      "text/plain": [
       "   pclass  survived                                             name     sex  \\\n",
       "0     1.0       1.0                    Allen, Miss. Elisabeth Walton  female   \n",
       "1     1.0       1.0                   Allison, Master. Hudson Trevor    male   \n",
       "2     1.0       0.0                     Allison, Miss. Helen Loraine  female   \n",
       "3     1.0       0.0             Allison, Mr. Hudson Joshua Creighton    male   \n",
       "4     1.0       0.0  Allison, Mrs. Hudson J C (Bessie Waldo Daniels)  female   \n",
       "\n",
       "       age  sibsp  parch  ticket      fare embarked  male  Q  S  2.0  3.0  \n",
       "0  29.0000    0.0    0.0   24160  211.3375        S     0  0  1    0    0  \n",
       "1   0.9167    1.0    2.0  113781  151.5500        S     1  0  1    0    0  \n",
       "2   2.0000    1.0    2.0  113781  151.5500        S     0  0  1    0    0  \n",
       "3  30.0000    1.0    2.0  113781  151.5500        S     1  0  1    0    0  \n",
       "4  25.0000    1.0    2.0  113781  151.5500        S     0  0  1    0    0  "
      ]
     },
     "execution_count": 88,
     "metadata": {},
     "output_type": "execute_result"
    }
   ],
   "source": [
    "df.head()"
   ]
  },
  {
   "cell_type": "code",
   "execution_count": 89,
   "metadata": {},
   "outputs": [],
   "source": [
    "#Dropping pclass,embarked and sex because we have encoded it to other columns"
   ]
  },
  {
   "cell_type": "code",
   "execution_count": 90,
   "metadata": {},
   "outputs": [],
   "source": [
    "df.drop(['pclass','sex','embarked','name','ticket'], axis=1, inplace = True)"
   ]
  },
  {
   "cell_type": "code",
   "execution_count": 91,
   "metadata": {},
   "outputs": [],
   "source": [
    "df.dropna(inplace=True)"
   ]
  },
  {
   "cell_type": "code",
   "execution_count": 92,
   "metadata": {},
   "outputs": [
    {
     "data": {
      "text/html": [
       "<div>\n",
       "<style scoped>\n",
       "    .dataframe tbody tr th:only-of-type {\n",
       "        vertical-align: middle;\n",
       "    }\n",
       "\n",
       "    .dataframe tbody tr th {\n",
       "        vertical-align: top;\n",
       "    }\n",
       "\n",
       "    .dataframe thead th {\n",
       "        text-align: right;\n",
       "    }\n",
       "</style>\n",
       "<table border=\"1\" class=\"dataframe\">\n",
       "  <thead>\n",
       "    <tr style=\"text-align: right;\">\n",
       "      <th></th>\n",
       "      <th>survived</th>\n",
       "      <th>age</th>\n",
       "      <th>sibsp</th>\n",
       "      <th>parch</th>\n",
       "      <th>fare</th>\n",
       "      <th>male</th>\n",
       "      <th>Q</th>\n",
       "      <th>S</th>\n",
       "      <th>2.0</th>\n",
       "      <th>3.0</th>\n",
       "    </tr>\n",
       "  </thead>\n",
       "  <tbody>\n",
       "    <tr>\n",
       "      <th>0</th>\n",
       "      <td>1.0</td>\n",
       "      <td>29.0000</td>\n",
       "      <td>0.0</td>\n",
       "      <td>0.0</td>\n",
       "      <td>211.3375</td>\n",
       "      <td>0</td>\n",
       "      <td>0</td>\n",
       "      <td>1</td>\n",
       "      <td>0</td>\n",
       "      <td>0</td>\n",
       "    </tr>\n",
       "    <tr>\n",
       "      <th>1</th>\n",
       "      <td>1.0</td>\n",
       "      <td>0.9167</td>\n",
       "      <td>1.0</td>\n",
       "      <td>2.0</td>\n",
       "      <td>151.5500</td>\n",
       "      <td>1</td>\n",
       "      <td>0</td>\n",
       "      <td>1</td>\n",
       "      <td>0</td>\n",
       "      <td>0</td>\n",
       "    </tr>\n",
       "    <tr>\n",
       "      <th>2</th>\n",
       "      <td>0.0</td>\n",
       "      <td>2.0000</td>\n",
       "      <td>1.0</td>\n",
       "      <td>2.0</td>\n",
       "      <td>151.5500</td>\n",
       "      <td>0</td>\n",
       "      <td>0</td>\n",
       "      <td>1</td>\n",
       "      <td>0</td>\n",
       "      <td>0</td>\n",
       "    </tr>\n",
       "    <tr>\n",
       "      <th>3</th>\n",
       "      <td>0.0</td>\n",
       "      <td>30.0000</td>\n",
       "      <td>1.0</td>\n",
       "      <td>2.0</td>\n",
       "      <td>151.5500</td>\n",
       "      <td>1</td>\n",
       "      <td>0</td>\n",
       "      <td>1</td>\n",
       "      <td>0</td>\n",
       "      <td>0</td>\n",
       "    </tr>\n",
       "    <tr>\n",
       "      <th>4</th>\n",
       "      <td>0.0</td>\n",
       "      <td>25.0000</td>\n",
       "      <td>1.0</td>\n",
       "      <td>2.0</td>\n",
       "      <td>151.5500</td>\n",
       "      <td>0</td>\n",
       "      <td>0</td>\n",
       "      <td>1</td>\n",
       "      <td>0</td>\n",
       "      <td>0</td>\n",
       "    </tr>\n",
       "  </tbody>\n",
       "</table>\n",
       "</div>"
      ],
      "text/plain": [
       "   survived      age  sibsp  parch      fare  male  Q  S  2.0  3.0\n",
       "0       1.0  29.0000    0.0    0.0  211.3375     0  0  1    0    0\n",
       "1       1.0   0.9167    1.0    2.0  151.5500     1  0  1    0    0\n",
       "2       0.0   2.0000    1.0    2.0  151.5500     0  0  1    0    0\n",
       "3       0.0  30.0000    1.0    2.0  151.5500     1  0  1    0    0\n",
       "4       0.0  25.0000    1.0    2.0  151.5500     0  0  1    0    0"
      ]
     },
     "execution_count": 92,
     "metadata": {},
     "output_type": "execute_result"
    }
   ],
   "source": [
    "#Finally we have out data where all columns are numberical perfect for the algorithm\n",
    "df.head()"
   ]
  },
  {
   "cell_type": "markdown",
   "metadata": {},
   "source": [
    "### Performing Analysis"
   ]
  },
  {
   "cell_type": "code",
   "execution_count": 93,
   "metadata": {},
   "outputs": [
    {
     "data": {
      "text/plain": [
       "Index(['survived', 'age', 'sibsp', 'parch', 'fare', 'male', 'Q', 'S', 2.0,\n",
       "       3.0],\n",
       "      dtype='object')"
      ]
     },
     "execution_count": 93,
     "metadata": {},
     "output_type": "execute_result"
    }
   ],
   "source": [
    "df.columns"
   ]
  },
  {
   "cell_type": "code",
   "execution_count": 95,
   "metadata": {},
   "outputs": [],
   "source": [
    "x = df[['age', 'sibsp', 'parch', 'fare', 'male', 'Q', 'S']]\n",
    "y = df['survived']"
   ]
  },
  {
   "cell_type": "code",
   "execution_count": 96,
   "metadata": {},
   "outputs": [],
   "source": [
    "from sklearn.model_selection import train_test_split"
   ]
  },
  {
   "cell_type": "code",
   "execution_count": 97,
   "metadata": {},
   "outputs": [],
   "source": [
    "x_train, x_test, y_train, y_test = train_test_split(x, y, test_size=0.3, random_state=101)"
   ]
  },
  {
   "cell_type": "code",
   "execution_count": 98,
   "metadata": {},
   "outputs": [],
   "source": [
    "from sklearn.linear_model import LogisticRegression"
   ]
  },
  {
   "cell_type": "code",
   "execution_count": 99,
   "metadata": {},
   "outputs": [],
   "source": [
    "logmodel = LogisticRegression()"
   ]
  },
  {
   "cell_type": "code",
   "execution_count": 110,
   "metadata": {},
   "outputs": [
    {
     "name": "stderr",
     "output_type": "stream",
     "text": [
      "C:\\Users\\ADMIN\\Anaconda3\\lib\\site-packages\\sklearn\\linear_model\\logistic.py:432: FutureWarning:\n",
      "\n",
      "Default solver will be changed to 'lbfgs' in 0.22. Specify a solver to silence this warning.\n",
      "\n"
     ]
    },
    {
     "data": {
      "text/plain": [
       "LogisticRegression(C=1.0, class_weight=None, dual=False, fit_intercept=True,\n",
       "                   intercept_scaling=1, l1_ratio=None, max_iter=100,\n",
       "                   multi_class='warn', n_jobs=None, penalty='l2',\n",
       "                   random_state=None, solver='warn', tol=0.0001, verbose=0,\n",
       "                   warm_start=False)"
      ]
     },
     "execution_count": 110,
     "metadata": {},
     "output_type": "execute_result"
    }
   ],
   "source": [
    "logmodel.fit(x_train, y_train)"
   ]
  },
  {
   "cell_type": "code",
   "execution_count": 101,
   "metadata": {},
   "outputs": [],
   "source": [
    "predictions = logmodel.predict(x_test)"
   ]
  },
  {
   "cell_type": "code",
   "execution_count": 102,
   "metadata": {},
   "outputs": [],
   "source": [
    "from sklearn.metrics import classification_report"
   ]
  },
  {
   "cell_type": "code",
   "execution_count": 103,
   "metadata": {},
   "outputs": [
    {
     "name": "stdout",
     "output_type": "stream",
     "text": [
      "              precision    recall  f1-score   support\n",
      "\n",
      "         0.0       0.81      0.82      0.82       240\n",
      "         1.0       0.72      0.70      0.71       153\n",
      "\n",
      "    accuracy                           0.78       393\n",
      "   macro avg       0.76      0.76      0.76       393\n",
      "weighted avg       0.78      0.78      0.78       393\n",
      "\n"
     ]
    }
   ],
   "source": [
    "print(classification_report(y_test,predictions))"
   ]
  },
  {
   "cell_type": "code",
   "execution_count": 104,
   "metadata": {},
   "outputs": [],
   "source": [
    "from sklearn.metrics import confusion_matrix"
   ]
  },
  {
   "cell_type": "code",
   "execution_count": 105,
   "metadata": {},
   "outputs": [
    {
     "data": {
      "text/html": [
       "<div>\n",
       "<style scoped>\n",
       "    .dataframe tbody tr th:only-of-type {\n",
       "        vertical-align: middle;\n",
       "    }\n",
       "\n",
       "    .dataframe tbody tr th {\n",
       "        vertical-align: top;\n",
       "    }\n",
       "\n",
       "    .dataframe thead th {\n",
       "        text-align: right;\n",
       "    }\n",
       "</style>\n",
       "<table border=\"1\" class=\"dataframe\">\n",
       "  <thead>\n",
       "    <tr style=\"text-align: right;\">\n",
       "      <th></th>\n",
       "      <th>Predicted:\n",
       " NO</th>\n",
       "      <th>Predicted:\n",
       " YES</th>\n",
       "    </tr>\n",
       "  </thead>\n",
       "  <tbody>\n",
       "    <tr>\n",
       "      <th>Actual: NO</th>\n",
       "      <td>198</td>\n",
       "      <td>42</td>\n",
       "    </tr>\n",
       "    <tr>\n",
       "      <th>Actual: YES</th>\n",
       "      <td>46</td>\n",
       "      <td>107</td>\n",
       "    </tr>\n",
       "  </tbody>\n",
       "</table>\n",
       "</div>"
      ],
      "text/plain": [
       "             Predicted:\\n NO  Predicted:\\n YES\n",
       "Actual: NO               198                42\n",
       "Actual: YES               46               107"
      ]
     },
     "execution_count": 105,
     "metadata": {},
     "output_type": "execute_result"
    }
   ],
   "source": [
    "cm = confusion_matrix(y_test, predictions)\n",
    "cmatrix = pd.DataFrame(cm, columns=['Predicted:\\n NO', 'Predicted:\\n YES'], index=['Actual: NO', 'Actual: YES'])\n",
    "cmatrix"
   ]
  },
  {
   "cell_type": "code",
   "execution_count": null,
   "metadata": {},
   "outputs": [],
   "source": [
    "# Our model had an accuracy of 78% while predicting the cases of survival using Logistic Regression."
   ]
  }
 ],
 "metadata": {
  "kernelspec": {
   "display_name": "Python 3",
   "language": "python",
   "name": "python3"
  },
  "language_info": {
   "codemirror_mode": {
    "name": "ipython",
    "version": 3
   },
   "file_extension": ".py",
   "mimetype": "text/x-python",
   "name": "python",
   "nbconvert_exporter": "python",
   "pygments_lexer": "ipython3",
   "version": "3.7.3"
  }
 },
 "nbformat": 4,
 "nbformat_minor": 2
}
